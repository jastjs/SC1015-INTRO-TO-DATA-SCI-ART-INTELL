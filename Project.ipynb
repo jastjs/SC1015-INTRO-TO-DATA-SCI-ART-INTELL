{
 "cells": [
  {
   "cell_type": "markdown",
   "id": "5482558b",
   "metadata": {},
   "source": [
    "## Basic Libraries"
   ]
  },
  {
   "cell_type": "code",
   "execution_count": null,
   "id": "3e950cf6",
   "metadata": {},
   "outputs": [],
   "source": [
    "import numpy as np\n",
    "import pandas as pd\n",
    "import seaborn as sns\n",
    "import matplotlib.pyplot as plt\n",
    "sns.set() # set the default Seaborn style for graphics"
   ]
  },
  {
   "cell_type": "markdown",
   "id": "5ea2c022",
   "metadata": {},
   "source": [
    "## Plotly Imports"
   ]
  },
  {
   "cell_type": "code",
   "execution_count": null,
   "id": "bac68516",
   "metadata": {},
   "outputs": [],
   "source": [
    "import matplotlib.ticker as ticker\n",
    "import json\n",
    "import plotly.express as px"
   ]
  },
  {
   "cell_type": "markdown",
   "id": "c7958f47",
   "metadata": {},
   "source": [
    "## Import the Dataset"
   ]
  },
  {
   "cell_type": "markdown",
   "id": "7135da68",
   "metadata": {},
   "source": [
    "Note: resale-flat-prices-based-on-approval-date-2000-feb-2012 is being split into two due to exceeding the size limit for Github.\n",
    "- resale-flat-prices-based-on-approval-date-2000-feb-2005.csv\n",
    "- resale-flat-prices-based-on-approval-date-2006-2012.csv"
   ]
  },
  {
   "cell_type": "code",
   "execution_count": null,
   "id": "52a5f784",
   "metadata": {},
   "outputs": [],
   "source": [
    "df_1990 = pd.read_csv('Resale Flat Prices/resale-flat-prices-based-on-approval-date-1990-1999.csv')\n",
    "df_2000 = pd.read_csv('Resale Flat Prices/resale-flat-prices-based-on-approval-date-2000-feb-2005.csv')\n",
    "df_2006 = pd.read_csv('Resale Flat Prices/resale-flat-prices-based-on-approval-date-2006-2012.csv')\n",
    "df_2012 = pd.read_csv('Resale Flat Prices/resale-flat-prices-based-on-registration-date-from-mar-2012-to-dec-2014.csv')\n",
    "df_2015 = pd.read_csv('Resale Flat Prices/resale-flat-prices-based-on-registration-date-from-jan-2015-to-dec-2016.csv')\n",
    "df_2017 = pd.read_csv('Resale Flat Prices/resale-flat-prices-based-on-registration-date-from-jan-2017-onwards.csv')"
   ]
  },
  {
   "cell_type": "code",
   "execution_count": null,
   "id": "bc8a282a",
   "metadata": {},
   "outputs": [],
   "source": [
    "df_main = pd.concat([df_1990, df_2000, df_2006, df_2012, df_2015, df_2017])\n",
    "df_main = df_main.reset_index(drop=True)"
   ]
  },
  {
   "cell_type": "markdown",
   "id": "3d16929b",
   "metadata": {},
   "source": [
    "## Check out the Data"
   ]
  },
  {
   "cell_type": "code",
   "execution_count": null,
   "id": "81e0220a",
   "metadata": {},
   "outputs": [],
   "source": [
    "df_main.head()"
   ]
  },
  {
   "cell_type": "code",
   "execution_count": null,
   "id": "9673b16b",
   "metadata": {},
   "outputs": [],
   "source": [
    "df_main.info()"
   ]
  },
  {
   "cell_type": "code",
   "execution_count": null,
   "id": "dc3690c1",
   "metadata": {
    "scrolled": true
   },
   "outputs": [],
   "source": [
    "df_main.month.unique()"
   ]
  },
  {
   "cell_type": "code",
   "execution_count": null,
   "id": "c6d5c46c",
   "metadata": {},
   "outputs": [],
   "source": [
    "df_main.town.unique()"
   ]
  },
  {
   "cell_type": "code",
   "execution_count": null,
   "id": "00a4fc46",
   "metadata": {},
   "outputs": [],
   "source": [
    "df_main.flat_type.unique()"
   ]
  },
  {
   "cell_type": "code",
   "execution_count": null,
   "id": "3013b9da",
   "metadata": {},
   "outputs": [],
   "source": [
    "df_main.storey_range.unique()"
   ]
  },
  {
   "cell_type": "code",
   "execution_count": null,
   "id": "cc686ee7",
   "metadata": {},
   "outputs": [],
   "source": [
    "df_main.flat_model.unique()"
   ]
  },
  {
   "cell_type": "code",
   "execution_count": null,
   "id": "5a877c96",
   "metadata": {},
   "outputs": [],
   "source": [
    "df_main.remaining_lease.unique()"
   ]
  },
  {
   "cell_type": "markdown",
   "id": "5bd25f52",
   "metadata": {},
   "source": [
    "# Data Cleaning"
   ]
  },
  {
   "cell_type": "code",
   "execution_count": null,
   "id": "a83be58a",
   "metadata": {
    "scrolled": true
   },
   "outputs": [],
   "source": [
    "df_main"
   ]
  },
  {
   "cell_type": "code",
   "execution_count": null,
   "id": "0db96263",
   "metadata": {},
   "outputs": [],
   "source": [
    "# Region \n",
    "\n",
    "df_main['town'] = df_main['town'].replace(['ANG MO KIO'],'NORTH-EAST REGION')\n",
    "df_main['town'] = df_main['town'].replace(['BEDOK'],'EAST REGION')\n",
    "df_main['town'] = df_main['town'].replace(['BISHAN'],'CENTRAL REGION')\n",
    "df_main['town'] = df_main['town'].replace(['BUKIT BATOK'],'WEST REGION')\n",
    "df_main['town'] = df_main['town'].replace(['BUKIT MERAH'],'CENTRAL REGION')\n",
    "df_main['town'] = df_main['town'].replace(['BUKIT TIMAH'],'CENTRAL REGION')\n",
    "df_main['town'] = df_main['town'].replace(['CENTRAL AREA'],'CENTRAL REGION')\n",
    "df_main['town'] = df_main['town'].replace(['CHOA CHU KANG'],'WEST REGION')\n",
    "df_main['town'] = df_main['town'].replace(['CLEMENTI'],'WEST REGION')\n",
    "df_main['town'] = df_main['town'].replace(['GEYLANG'],'CENTRAL REGION')\n",
    "df_main['town'] = df_main['town'].replace(['HOUGANG'],'NORTH-EAST REGION')\n",
    "df_main['town'] = df_main['town'].replace(['JURONG EAST'],'WEST REGION')\n",
    "df_main['town'] = df_main['town'].replace(['JURONG WEST'],'WEST REGION')\n",
    "df_main['town'] = df_main['town'].replace(['KALLANG/WHAMPOA'],'CENTRAL REGION')\n",
    "df_main['town'] = df_main['town'].replace(['MARINE PARADE'],'CENTRAL REGION')\n",
    "df_main['town'] = df_main['town'].replace(['QUEENSTOWN'],'CENTRAL REGION')\n",
    "df_main['town'] = df_main['town'].replace(['SENGKANG'],'NORTH-EAST REGION')\n",
    "df_main['town'] = df_main['town'].replace(['SERANGOON'],'NORTH-EAST REGION')\n",
    "df_main['town'] = df_main['town'].replace(['TAMPINES'],'EAST REGION')\n",
    "df_main['town'] = df_main['town'].replace(['TOA PAYOH'],'CENTRAL REGION')\n",
    "df_main['town'] = df_main['town'].replace(['WOODLANDS'],'NORTH REGION')\n",
    "df_main['town'] = df_main['town'].replace(['YISHUN'],'NORTH REGION')\n",
    "df_main['town'] = df_main['town'].replace(['LIM CHU KANG'],'NORTH REGION')\n",
    "df_main['town'] = df_main['town'].replace(['SEMBAWANG'],'NORTH REGION')\n",
    "df_main['town'] = df_main['town'].replace(['BUKIT PANJANG'],'WEST REGION')\n",
    "df_main['town'] = df_main['town'].replace(['PASIR RIS'],'EAST REGION')\n",
    "df_main['town'] = df_main['town'].replace(['PUNGGOL'],'NORTH-EAST REGION')"
   ]
  },
  {
   "cell_type": "code",
   "execution_count": null,
   "id": "a0278163",
   "metadata": {},
   "outputs": [],
   "source": [
    "# Storey Range\n",
    "\n",
    "df_main['storey_range'] = df_main['storey_range'].replace(['10 TO 12'],'01 TO 15')\n",
    "df_main['storey_range'] = df_main['storey_range'].replace(['04 TO 06'],'01 TO 15')\n",
    "df_main['storey_range'] = df_main['storey_range'].replace(['07 TO 09'],'01 TO 15')\n",
    "df_main['storey_range'] = df_main['storey_range'].replace(['01 TO 03'],'01 TO 15')\n",
    "df_main['storey_range'] = df_main['storey_range'].replace(['13 TO 15'],'01 TO 15')\n",
    "df_main['storey_range'] = df_main['storey_range'].replace(['19 TO 21'],'16 TO 30')\n",
    "df_main['storey_range'] = df_main['storey_range'].replace(['16 TO 18'],'16 TO 30')\n",
    "df_main['storey_range'] = df_main['storey_range'].replace(['25 TO 27'],'16 TO 30')\n",
    "df_main['storey_range'] = df_main['storey_range'].replace(['22 TO 24'],'16 TO 30')\n",
    "df_main['storey_range'] = df_main['storey_range'].replace(['28 TO 30'],'16 TO 30')\n",
    "df_main['storey_range'] = df_main['storey_range'].replace(['31 TO 33'],'16 TO 30')\n",
    "df_main['storey_range'] = df_main['storey_range'].replace(['40 TO 42'],'31 TO 45')\n",
    "df_main['storey_range'] = df_main['storey_range'].replace(['37 TO 39'],'31 TO 45')\n",
    "df_main['storey_range'] = df_main['storey_range'].replace(['34 TO 36'],'31 TO 45')\n",
    "df_main['storey_range'] = df_main['storey_range'].replace(['06 TO 10'],'01 TO 15')\n",
    "df_main['storey_range'] = df_main['storey_range'].replace(['01 TO 05'],'01 TO 15')\n",
    "df_main['storey_range'] = df_main['storey_range'].replace(['11 TO 15'],'01 TO 15')\n",
    "df_main['storey_range'] = df_main['storey_range'].replace(['16 TO 20'],'16 TO 30')\n",
    "df_main['storey_range'] = df_main['storey_range'].replace(['21 TO 25'],'16 TO 30')\n",
    "df_main['storey_range'] = df_main['storey_range'].replace(['26 TO 30'],'16 TO 30')\n",
    "df_main['storey_range'] = df_main['storey_range'].replace(['36 TO 40'],'31 TO 45')\n",
    "df_main['storey_range'] = df_main['storey_range'].replace(['31 TO 35'],'31 TO 45')\n",
    "df_main['storey_range'] = df_main['storey_range'].replace(['46 TO 48'],'31 TO 45')\n",
    "df_main['storey_range'] = df_main['storey_range'].replace(['43 TO 45'],'31 TO 45')\n",
    "df_main['storey_range'] = df_main['storey_range'].replace(['49 TO 51'],'31 TO 45')"
   ]
  },
  {
   "cell_type": "code",
   "execution_count": null,
   "id": "6e430e36",
   "metadata": {},
   "outputs": [],
   "source": [
    "# Splitting month into Month and Year\n",
    "\n",
    "df_main[['Year', 'Month']] = df_main['month'].str.split('-', expand=True) "
   ]
  },
  {
   "cell_type": "code",
   "execution_count": null,
   "id": "b047d192",
   "metadata": {},
   "outputs": [],
   "source": [
    "# Lease Commence Date\n",
    "\n",
    "df_main['Year'] = df_main['Year'].astype(str).astype(int) \n",
    "\n",
    "df_main['lease_left']=(99 - (df_main['Year'] - df_main['lease_commence_date'])) "
   ]
  },
  {
   "cell_type": "markdown",
   "id": "7960bebb",
   "metadata": {},
   "source": [
    "Flat differences\n",
    "\n",
    "Multi generation flat:\n",
    "- Current - 3 rooms (2 master room, 1 normal room) [excluding living room]\n",
    "- Previous (1980s) - 4-room or 5-room flat with an adjoining studio apartment that had a separate entrance"
   ]
  },
  {
   "cell_type": "code",
   "execution_count": null,
   "id": "f3b7a050",
   "metadata": {},
   "outputs": [],
   "source": [
    "# Replacing MULTI-GENERATION TO MULTI GENERATION\n",
    "\n",
    "df_main['flat_type'] = df_main['flat_type'].replace(['MULTI-GENERATION'],'MULTI GENERATION')"
   ]
  },
  {
   "cell_type": "markdown",
   "id": "f19bd596",
   "metadata": {},
   "source": [
    "Type S1 and S2: (i.e. The Pinnacle@Duxton)\n",
    "- Special types, different unit variations – with dissimilar combinations of features such as extended bays, balconies, bay windows and planter areas.\n",
    "\n",
    "All the different models (Improved, Simplified etc):\n",
    "- Refers to the different model of each flat types, normally means floor plan is different, but all means the same type.\n",
    "\n",
    "Adjoined flat are 2 individual flats purchased side by side, and the owners link both units together.\n",
    "\n",
    "Loft apartment is flats with high ceiling, 1 staircase and 1 room on the top, normally located at the top of the building (something like penthouse but HDB version)\n",
    "\n",
    "Comparison between following models:\n",
    "- Apartment (1-level)\n",
    "- Maisonette (2-level, normally multiple units in 1 HDB building)\n",
    "- Terrace (2-levels, but a stand-alone building)"
   ]
  },
  {
   "cell_type": "code",
   "execution_count": null,
   "id": "fa567a51",
   "metadata": {},
   "outputs": [],
   "source": [
    "# Flat Model\n",
    "\n",
    "df_main['flat_model'] = df_main['flat_model'].replace(['MODEL A-MAISONETTE','IMPROVED-MAISONETTE',\n",
    "                                                       'Model A-Maisonette','Improved-Maisonette', \n",
    "                                                       'Premium Maisonette', 'Maisonette'],\n",
    "                                                       'MAISONETTE')\n",
    "df_main['flat_model'] = df_main['flat_model'].replace(['PREMIUM APARTMENT','Apartment','Premium Apartment'],\n",
    "                                                       'APARTMENT')\n",
    "df_main['flat_model'] = df_main['flat_model'].replace(['Improved'],'IMPROVED')\n",
    "df_main['flat_model'] = df_main['flat_model'].replace(['New Generation'],'NEW GENERATION')\n",
    "df_main['flat_model'] = df_main['flat_model'].replace(['Model A'],'MODEL A')\n",
    "df_main['flat_model'] = df_main['flat_model'].replace(['Standard'],'STANDARD')\n",
    "df_main['flat_model'] = df_main['flat_model'].replace(['Simplified'],'SIMPLIFIED')\n",
    "df_main['flat_model'] = df_main['flat_model'].replace(['2-room','Model A2'],'2-ROOM')\n",
    "df_main['flat_model'] = df_main['flat_model'].replace(['Terrace'],'TERRACE')\n",
    "df_main['flat_model'] = df_main['flat_model'].replace(['Multi Generation'],'MULTI GENERATION')\n",
    "df_main['flat_model'] = df_main['flat_model'].replace(['Adjoined flat'],'ADJOINED FLAT')\n",
    "df_main['flat_model'] = df_main['flat_model'].replace(['Type S1', 'Type S2'],'TYPE S')\n",
    "df_main['flat_model'] = df_main['flat_model'].replace(['Premium Apartment Loft'],'LOFT APARTMENT')"
   ]
  },
  {
   "cell_type": "code",
   "execution_count": null,
   "id": "638ee698",
   "metadata": {
    "scrolled": true
   },
   "outputs": [],
   "source": [
    "df_main"
   ]
  },
  {
   "cell_type": "code",
   "execution_count": null,
   "id": "42416a8f",
   "metadata": {},
   "outputs": [],
   "source": [
    "df_cleaned = df_main[['flat_type','block','street_name','storey_range','floor_area_sqm','flat_model',\n",
    "                      'resale_price','Year','lease_left','town']]\n",
    "df_cleaned = df_cleaned.rename(columns={\"Year\": \"year\", 'town' : 'region'})\n",
    "df_cleaned.head()"
   ]
  },
  {
   "cell_type": "markdown",
   "id": "b3d3c514",
   "metadata": {},
   "source": [
    "Separating the data into decades.\n",
    "- 1990 to 1999\n",
    "- 2000 to 2009\n",
    "- 2010 to 2019\n",
    "- 2020 onwards"
   ]
  },
  {
   "cell_type": "code",
   "execution_count": null,
   "id": "bc114eac",
   "metadata": {},
   "outputs": [],
   "source": [
    "df_90 = df_cleaned[df_cleaned['year'] < 2000]\n",
    "df_90"
   ]
  },
  {
   "cell_type": "code",
   "execution_count": null,
   "id": "69fcdf01",
   "metadata": {},
   "outputs": [],
   "source": [
    "df_00 = df_cleaned[(df_cleaned['year'] >= 2000) & (df_cleaned['year'] < 2010)]\n",
    "df_00"
   ]
  },
  {
   "cell_type": "code",
   "execution_count": null,
   "id": "95d813f8",
   "metadata": {},
   "outputs": [],
   "source": [
    "df_10 = df_cleaned[(df_cleaned['year'] >= 2010) & (df_cleaned['year'] < 2020)]\n",
    "df_10"
   ]
  },
  {
   "cell_type": "code",
   "execution_count": null,
   "id": "1fe6697a",
   "metadata": {},
   "outputs": [],
   "source": [
    "df_20 = df_cleaned[df_cleaned['year'] >= 2020]\n",
    "df_20"
   ]
  },
  {
   "cell_type": "markdown",
   "id": "f45ce200",
   "metadata": {},
   "source": [
    "## Map Visualisation"
   ]
  },
  {
   "cell_type": "code",
   "execution_count": null,
   "id": "73cbc503",
   "metadata": {},
   "outputs": [],
   "source": [
    "f = open('Geojson/master-plan-2019-region-boundary-no-sea-geojson.geojson')\n",
    " \n",
    "data = json.load(f)"
   ]
  },
  {
   "cell_type": "code",
   "execution_count": null,
   "id": "9d5d744e",
   "metadata": {},
   "outputs": [],
   "source": [
    "data"
   ]
  },
  {
   "cell_type": "code",
   "execution_count": null,
   "id": "98f674a6",
   "metadata": {},
   "outputs": [],
   "source": [
    "data['features'][0]['properties']['region'] = 'WEST REGION'\n",
    "data['features'][1]['properties']['region'] = 'NORTH REGION'\n",
    "data['features'][2]['properties']['region'] = 'NORTH-EAST REGION'\n",
    "data['features'][3]['properties']['region'] = 'EAST REGION'\n",
    "data['features'][4]['properties']['region'] = 'CENTRAL REGION'"
   ]
  },
  {
   "cell_type": "code",
   "execution_count": null,
   "id": "5f13e0d5",
   "metadata": {},
   "outputs": [],
   "source": [
    "print(df_cleaned[\"region\"][0])\n",
    "print(data['features'][0]['properties'])"
   ]
  },
  {
   "cell_type": "markdown",
   "id": "0ed25312",
   "metadata": {},
   "source": [
    "# Exploratory Data Analysis (EDA)"
   ]
  },
  {
   "cell_type": "markdown",
   "id": "afe9a19d",
   "metadata": {},
   "source": [
    "## Overall across the years from 1990 to 2022"
   ]
  },
  {
   "cell_type": "code",
   "execution_count": null,
   "id": "41d00360",
   "metadata": {},
   "outputs": [],
   "source": [
    "numeric_main = pd.DataFrame(df_cleaned[[\"floor_area_sqm\",\"resale_price\",\"lease_left\"]])\n",
    "numeric_main"
   ]
  },
  {
   "cell_type": "code",
   "execution_count": null,
   "id": "77b61751",
   "metadata": {},
   "outputs": [],
   "source": [
    "def numeric_dist(df):\n",
    "\n",
    "    f, axes = plt.subplots(3, 3, figsize=(18, 18))\n",
    "    count = 0\n",
    "    for var in df:\n",
    "        sns.boxplot(data = df[var], orient = \"h\", ax = axes[count,0])\n",
    "        sns.histplot(data = df[var], ax = axes[count,1])\n",
    "        sns.violinplot(data = df[var], orient = \"h\", ax = axes[count,2])\n",
    "        count += 1"
   ]
  },
  {
   "cell_type": "code",
   "execution_count": null,
   "id": "a2f6389f",
   "metadata": {},
   "outputs": [],
   "source": [
    "# Draw the Distributions of All Variables\n",
    "numeric_dist(numeric_main)"
   ]
  },
  {
   "cell_type": "code",
   "execution_count": null,
   "id": "44f89495",
   "metadata": {},
   "outputs": [],
   "source": [
    "def numeric_corr(df):\n",
    "    \n",
    "    print(df.corr())\n",
    "    f = plt.figure(figsize=(8, 8))\n",
    "    sns.heatmap(df.corr(), vmin = -1, vmax = 1, linewidths = 1,\n",
    "               annot = True, fmt = \".2f\", annot_kws = {\"size\": 18}, cmap = \"RdBu\")"
   ]
  },
  {
   "cell_type": "code",
   "execution_count": null,
   "id": "edfd1a2a",
   "metadata": {
    "scrolled": false
   },
   "outputs": [],
   "source": [
    "# Heatmap of the Correlation Matrix\n",
    "numeric_corr(numeric_main)"
   ]
  },
  {
   "cell_type": "code",
   "execution_count": null,
   "id": "bdbf4aa6",
   "metadata": {
    "scrolled": false
   },
   "outputs": [],
   "source": [
    "sns.pairplot(data = numeric_main)"
   ]
  },
  {
   "cell_type": "code",
   "execution_count": null,
   "id": "5872b3bd",
   "metadata": {},
   "outputs": [],
   "source": [
    "def flat_type_flat_model(df):\n",
    "    \n",
    "    f = plt.figure(figsize=(20, 15))\n",
    "    sns.heatmap(df.groupby(['flat_type', 'flat_model']).size().unstack(), \n",
    "           linewidths = 1, annot = True, annot_kws = {\"size\": 18}, cmap = \"Blues\", fmt=\".0f\")    \n"
   ]
  },
  {
   "cell_type": "code",
   "execution_count": null,
   "id": "583bab97",
   "metadata": {},
   "outputs": [],
   "source": [
    "# Distribution Over Flat Type vs Flat Model\n",
    "flat_type_flat_model(df_cleaned)"
   ]
  },
  {
   "cell_type": "code",
   "execution_count": null,
   "id": "68ed2f8a",
   "metadata": {},
   "outputs": [],
   "source": [
    "def flat_type_region(df):\n",
    "\n",
    "    f = plt.figure(figsize=(15, 10))\n",
    "    sns.heatmap(df.groupby(['flat_type', 'region']).size().unstack(), \n",
    "           linewidths = 1, annot = True, annot_kws = {\"size\": 18}, cmap = \"Blues\", fmt=\".0f\")"
   ]
  },
  {
   "cell_type": "code",
   "execution_count": null,
   "id": "8bad2bdb",
   "metadata": {},
   "outputs": [],
   "source": [
    "# Distribution Over Flat Type vs Region\n",
    "flat_type_region(df_cleaned)"
   ]
  },
  {
   "cell_type": "code",
   "execution_count": null,
   "id": "d534cf82",
   "metadata": {},
   "outputs": [],
   "source": [
    "def storey_range_region(df):\n",
    "    \n",
    "    f = plt.figure(figsize=(10, 5))\n",
    "    sns.heatmap(df.groupby(['storey_range', 'region']).size().unstack(), \n",
    "           linewidths = 1, annot = True, annot_kws = {\"size\": 18}, cmap = \"Blues\", fmt=\".0f\")"
   ]
  },
  {
   "cell_type": "code",
   "execution_count": null,
   "id": "375b48b1",
   "metadata": {},
   "outputs": [],
   "source": [
    "# Distribution Over Storey Range vs Region\n",
    "storey_range_region(df_cleaned)"
   ]
  },
  {
   "cell_type": "code",
   "execution_count": null,
   "id": "ccfd1877",
   "metadata": {},
   "outputs": [],
   "source": [
    "def resale_price_region(df):\n",
    "    \n",
    "    fig, ax = plt.subplots(figsize=(15, 10))    \n",
    "    sns.boxplot(x ='resale_price', y ='region', data = df)\n",
    "    ax.xaxis.set_major_formatter(ticker.EngFormatter())\n",
    "    plt.show()"
   ]
  },
  {
   "cell_type": "code",
   "execution_count": null,
   "id": "8ef04dfa",
   "metadata": {},
   "outputs": [],
   "source": [
    "# Distribution Over Resale Price vs Region\n",
    "resale_price_region(df_cleaned)"
   ]
  },
  {
   "cell_type": "code",
   "execution_count": null,
   "id": "65356b7b",
   "metadata": {},
   "outputs": [],
   "source": [
    "def resale_price_flat_model(df):\n",
    "\n",
    "    fig, ax = plt.subplots(figsize=(10, 10))    \n",
    "    sns.boxplot(x ='resale_price', y ='flat_model', data = df)\n",
    "    ax.xaxis.set_major_formatter(ticker.EngFormatter())\n",
    "    plt.show()"
   ]
  },
  {
   "cell_type": "code",
   "execution_count": null,
   "id": "29828df7",
   "metadata": {},
   "outputs": [],
   "source": [
    "# Distribution Over Resale Price vs Flat Model\n",
    "resale_price_flat_model(df_cleaned)"
   ]
  },
  {
   "cell_type": "code",
   "execution_count": null,
   "id": "614cb004",
   "metadata": {},
   "outputs": [],
   "source": [
    "df_overall = df_cleaned.groupby(['region']).mean().reset_index()"
   ]
  },
  {
   "cell_type": "code",
   "execution_count": null,
   "id": "41e4dc32",
   "metadata": {},
   "outputs": [],
   "source": [
    "def map_visual(df):\n",
    "    \n",
    "    fig = px.choropleth_mapbox(df, geojson=data, color=\"resale_price\",\n",
    "                           locations=\"region\", featureidkey=\"properties.region\",\n",
    "                           center={\"lat\": 1.3302, \"lon\": 103.8519},\n",
    "                           color_continuous_scale = 'blues',\n",
    "                           mapbox_style=\"carto-positron\", zoom=10)\n",
    "    fig.update_layout(margin={\"r\":0,\"t\":0,\"l\":0,\"b\":0})\n",
    "    fig.show()"
   ]
  },
  {
   "cell_type": "code",
   "execution_count": null,
   "id": "ba86f438",
   "metadata": {
    "scrolled": false
   },
   "outputs": [],
   "source": [
    "# Map Visualisation for Overall Average Resale Price per Region\n",
    "map_visual(df_overall)"
   ]
  },
  {
   "cell_type": "markdown",
   "id": "df8b6363",
   "metadata": {},
   "source": [
    "## 1990 to 1999"
   ]
  },
  {
   "cell_type": "code",
   "execution_count": null,
   "id": "b13baf62",
   "metadata": {},
   "outputs": [],
   "source": [
    "numeric_90 = pd.DataFrame(df_90[[\"floor_area_sqm\",\"resale_price\",\"lease_left\"]])\n",
    "numeric_90"
   ]
  },
  {
   "cell_type": "code",
   "execution_count": null,
   "id": "07e33252",
   "metadata": {},
   "outputs": [],
   "source": [
    "# Draw the Distributions of All Variables\n",
    "numeric_dist(numeric_90)"
   ]
  },
  {
   "cell_type": "code",
   "execution_count": null,
   "id": "1c7d5356",
   "metadata": {},
   "outputs": [],
   "source": [
    "# Heatmap of the Correlation Matrix\n",
    "numeric_corr(numeric_90)"
   ]
  },
  {
   "cell_type": "code",
   "execution_count": null,
   "id": "704957c5",
   "metadata": {},
   "outputs": [],
   "source": [
    "sns.pairplot(data = numeric_90)"
   ]
  },
  {
   "cell_type": "code",
   "execution_count": null,
   "id": "9f56461e",
   "metadata": {},
   "outputs": [],
   "source": [
    "# Distribution Over Flat Type vs Flat Model\n",
    "flat_type_flat_model(df_90)"
   ]
  },
  {
   "cell_type": "code",
   "execution_count": null,
   "id": "68239087",
   "metadata": {},
   "outputs": [],
   "source": [
    "# Distribution Over Flat Type vs Region\n",
    "flat_type_region(df_90)"
   ]
  },
  {
   "cell_type": "code",
   "execution_count": null,
   "id": "fe507fa6",
   "metadata": {},
   "outputs": [],
   "source": [
    "# Distribution Over Storey Range vs Region\n",
    "storey_range_region(df_90)"
   ]
  },
  {
   "cell_type": "code",
   "execution_count": null,
   "id": "f0055966",
   "metadata": {},
   "outputs": [],
   "source": [
    "# Distribution Over Resale Price vs Region\n",
    "resale_price_region(df_90)"
   ]
  },
  {
   "cell_type": "code",
   "execution_count": null,
   "id": "7efa3766",
   "metadata": {},
   "outputs": [],
   "source": [
    "# Distribution Over Resale Price vs Flat Model\n",
    "resale_price_flat_model(df_90)"
   ]
  },
  {
   "cell_type": "code",
   "execution_count": null,
   "id": "6ad0b7ac",
   "metadata": {},
   "outputs": [],
   "source": [
    "df_90overall = df_90.groupby(['region']).mean().reset_index()"
   ]
  },
  {
   "cell_type": "code",
   "execution_count": null,
   "id": "b031f8f0",
   "metadata": {},
   "outputs": [],
   "source": [
    "# Map Visualisation for Overall Average Resale Price per Region\n",
    "map_visual(df_90overall)"
   ]
  },
  {
   "cell_type": "markdown",
   "id": "453ab4eb",
   "metadata": {},
   "source": [
    "## 2000 to 2009"
   ]
  },
  {
   "cell_type": "code",
   "execution_count": null,
   "id": "f59bae34",
   "metadata": {},
   "outputs": [],
   "source": [
    "numeric_00= pd.DataFrame(df_00[[\"floor_area_sqm\",\"resale_price\",\"lease_left\"]])\n",
    "numeric_00.reset_index(drop=True, inplace=True)\n",
    "numeric_00"
   ]
  },
  {
   "cell_type": "code",
   "execution_count": null,
   "id": "9ac83df8",
   "metadata": {},
   "outputs": [],
   "source": [
    "# Draw the Distributions of All Variables\n",
    "numeric_dist(numeric_00)"
   ]
  },
  {
   "cell_type": "code",
   "execution_count": null,
   "id": "6891aa71",
   "metadata": {},
   "outputs": [],
   "source": [
    "# Heatmap of the Correlation Matrix\n",
    "numeric_corr(numeric_00)"
   ]
  },
  {
   "cell_type": "code",
   "execution_count": null,
   "id": "81805873",
   "metadata": {
    "scrolled": false
   },
   "outputs": [],
   "source": [
    "sns.pairplot(data = numeric_00)"
   ]
  },
  {
   "cell_type": "code",
   "execution_count": null,
   "id": "9e480822",
   "metadata": {},
   "outputs": [],
   "source": [
    "# Distribution Over Flat Type vs Flat Model\n",
    "flat_type_flat_model(df_00)"
   ]
  },
  {
   "cell_type": "code",
   "execution_count": null,
   "id": "ec1f21da",
   "metadata": {},
   "outputs": [],
   "source": [
    "# Distribution Over Flat Type vs Region\n",
    "flat_type_region(df_00)"
   ]
  },
  {
   "cell_type": "code",
   "execution_count": null,
   "id": "562a3ea8",
   "metadata": {},
   "outputs": [],
   "source": [
    "# Distribution Over Storey Range vs Region\n",
    "storey_range_region(df_00)"
   ]
  },
  {
   "cell_type": "code",
   "execution_count": null,
   "id": "fdd474a9",
   "metadata": {},
   "outputs": [],
   "source": [
    "# Distribution Over Resale Price vs Region\n",
    "resale_price_region(df_00)"
   ]
  },
  {
   "cell_type": "code",
   "execution_count": null,
   "id": "f8f2f69e",
   "metadata": {},
   "outputs": [],
   "source": [
    "# Distribution Over Resale Price vs Flat Model\n",
    "resale_price_flat_model(df_00)"
   ]
  },
  {
   "cell_type": "code",
   "execution_count": null,
   "id": "189f642b",
   "metadata": {},
   "outputs": [],
   "source": [
    "df_00overall = df_00.groupby(['region']).mean().reset_index()"
   ]
  },
  {
   "cell_type": "code",
   "execution_count": null,
   "id": "b35853b5",
   "metadata": {
    "scrolled": false
   },
   "outputs": [],
   "source": [
    "# Map Visualisation for Overall Average Resale Price per Region\n",
    "map_visual(df_00overall)"
   ]
  },
  {
   "cell_type": "markdown",
   "id": "b79ef28b",
   "metadata": {},
   "source": [
    "## 2010 to 2019"
   ]
  },
  {
   "cell_type": "code",
   "execution_count": null,
   "id": "c5526bb7",
   "metadata": {},
   "outputs": [],
   "source": [
    "numeric_10= pd.DataFrame(df_10[[\"floor_area_sqm\",\"resale_price\",\"lease_left\"]])\n",
    "numeric_10.reset_index(drop=True, inplace=True)\n",
    "numeric_10"
   ]
  },
  {
   "cell_type": "code",
   "execution_count": null,
   "id": "14c456a6",
   "metadata": {},
   "outputs": [],
   "source": [
    "# Draw the Distributions of All Variables\n",
    "numeric_dist(numeric_10)"
   ]
  },
  {
   "cell_type": "code",
   "execution_count": null,
   "id": "66a201db",
   "metadata": {},
   "outputs": [],
   "source": [
    "# Heatmap of the Correlation Matrix\n",
    "numeric_corr(numeric_10)"
   ]
  },
  {
   "cell_type": "code",
   "execution_count": null,
   "id": "19113a3d",
   "metadata": {},
   "outputs": [],
   "source": [
    "sns.pairplot(data = numeric_10)"
   ]
  },
  {
   "cell_type": "code",
   "execution_count": null,
   "id": "8d19788a",
   "metadata": {},
   "outputs": [],
   "source": [
    "# Distribution Over Flat Type vs Flat Model\n",
    "flat_type_flat_model(df_10)"
   ]
  },
  {
   "cell_type": "code",
   "execution_count": null,
   "id": "9e044f7c",
   "metadata": {},
   "outputs": [],
   "source": [
    "# Distribution Over Flat Type vs Region\n",
    "flat_type_region(df_10)"
   ]
  },
  {
   "cell_type": "code",
   "execution_count": null,
   "id": "cd4183c9",
   "metadata": {},
   "outputs": [],
   "source": [
    "# Distribution Over Storey Range vs Region\n",
    "storey_range_region(df_10)"
   ]
  },
  {
   "cell_type": "code",
   "execution_count": null,
   "id": "53948702",
   "metadata": {},
   "outputs": [],
   "source": [
    "# Distribution Over Resale Price vs Region\n",
    "resale_price_region(df_10)"
   ]
  },
  {
   "cell_type": "code",
   "execution_count": null,
   "id": "37e3f96b",
   "metadata": {},
   "outputs": [],
   "source": [
    "# Distribution Over Resale Price vs Flat Model\n",
    "resale_price_flat_model(df_10)"
   ]
  },
  {
   "cell_type": "code",
   "execution_count": null,
   "id": "2214ea1f",
   "metadata": {},
   "outputs": [],
   "source": [
    "df_10overall = df_10.groupby(['region']).mean().reset_index()"
   ]
  },
  {
   "cell_type": "code",
   "execution_count": null,
   "id": "a4bd5e6b",
   "metadata": {},
   "outputs": [],
   "source": [
    "# Map Visualisation for Overall Average Resale Price per Region\n",
    "map_visual(df_10overall)"
   ]
  },
  {
   "cell_type": "markdown",
   "id": "70b066cf",
   "metadata": {},
   "source": [
    "## 2020 onwards"
   ]
  },
  {
   "cell_type": "code",
   "execution_count": null,
   "id": "b4928511",
   "metadata": {},
   "outputs": [],
   "source": [
    "numeric_20= pd.DataFrame(df_20[[\"floor_area_sqm\",\"resale_price\",\"lease_left\"]])\n",
    "numeric_20.reset_index(drop=True, inplace=True)\n",
    "numeric_20"
   ]
  },
  {
   "cell_type": "code",
   "execution_count": null,
   "id": "0c908ce3",
   "metadata": {},
   "outputs": [],
   "source": [
    "# Draw the Distributions of All Variables\n",
    "numeric_dist(numeric_20)"
   ]
  },
  {
   "cell_type": "code",
   "execution_count": null,
   "id": "ffb744bb",
   "metadata": {},
   "outputs": [],
   "source": [
    "# Heatmap of the Correlation Matrix\n",
    "numeric_corr(numeric_20)"
   ]
  },
  {
   "cell_type": "code",
   "execution_count": null,
   "id": "6487dd88",
   "metadata": {},
   "outputs": [],
   "source": [
    "sns.pairplot(data = numeric_20)"
   ]
  },
  {
   "cell_type": "code",
   "execution_count": null,
   "id": "9c70a9e1",
   "metadata": {},
   "outputs": [],
   "source": [
    "# Distribution Over Flat Type vs Flat Model\n",
    "flat_type_flat_model(df_cleaned)"
   ]
  },
  {
   "cell_type": "code",
   "execution_count": null,
   "id": "8d121db7",
   "metadata": {},
   "outputs": [],
   "source": [
    "# Distribution Over Flat Type vs Region\n",
    "flat_type_region(df_cleaned)"
   ]
  },
  {
   "cell_type": "code",
   "execution_count": null,
   "id": "6bf227fe",
   "metadata": {},
   "outputs": [],
   "source": [
    "# Distribution Over Storey Range vs Region\n",
    "storey_range_region(df_cleaned)"
   ]
  },
  {
   "cell_type": "code",
   "execution_count": null,
   "id": "6fe10470",
   "metadata": {},
   "outputs": [],
   "source": [
    "# Distribution Over Resale Price vs Region\n",
    "resale_price_region(df_cleaned)"
   ]
  },
  {
   "cell_type": "code",
   "execution_count": null,
   "id": "e70e7255",
   "metadata": {},
   "outputs": [],
   "source": [
    "# Distribution Over Resale Price vs Flat Model\n",
    "resale_price_flat_model(df_cleaned)"
   ]
  },
  {
   "cell_type": "code",
   "execution_count": null,
   "id": "24b69daf",
   "metadata": {},
   "outputs": [],
   "source": [
    "df_20overall = df_20.groupby(['region']).mean().reset_index()"
   ]
  },
  {
   "cell_type": "code",
   "execution_count": null,
   "id": "75bd978a",
   "metadata": {},
   "outputs": [],
   "source": [
    "# Map Visualisation for Overall Average Resale Price per Region\n",
    "map_visual(df_20overall)"
   ]
  },
  {
   "cell_type": "markdown",
   "id": "a13deac9",
   "metadata": {},
   "source": [
    "FOR EACH YEAR:\n",
    "\n",
    "region, 3 areas in singapore (north-east, central, west)\n",
    "\n",
    "resale price of flat models (3 room, 4 room, 5 room, EA, EM)\n",
    "\n",
    "average resale price/number of units to see the trend\n",
    "\n",
    "FOR EACH GEN:\n",
    "\n",
    "show graph of average and see resale price up or down"
   ]
  },
  {
   "cell_type": "code",
   "execution_count": null,
   "id": "0dd8f20b",
   "metadata": {},
   "outputs": [],
   "source": [
    "df_flat_overall_price = df_cleaned.groupby(['year'])['resale_price'].mean().reset_index()\n",
    "df_flat_type_price = df_cleaned.groupby(['year','flat_type'])['resale_price'].mean().reset_index()\n",
    "df_flat_model_price = df_cleaned.groupby(['year','flat_model'])['resale_price'].mean().reset_index()"
   ]
  },
  {
   "cell_type": "code",
   "execution_count": null,
   "id": "e28c5e9d",
   "metadata": {},
   "outputs": [],
   "source": [
    "df_flat_type_price_3room = df_flat_type_price.loc[df_flat_type_price['flat_type'] == '3 ROOM']\n",
    "df_flat_type_price_4room = df_flat_type_price.loc[df_flat_type_price['flat_type'] == '4 ROOM']\n",
    "df_flat_type_price_5room = df_flat_type_price.loc[df_flat_type_price['flat_type'] == '5 ROOM']\n",
    "df_flat_model_price_ea = df_flat_model_price.loc[df_flat_model_price['flat_model'] == 'APARTMENT']\n",
    "df_flat_model_price_ea['flat_type'] = \"EXECUTIVE APARTMENT\"\n",
    "df_flat_model_price_ma = df_flat_model_price.loc[df_flat_model_price['flat_model'] == 'MAISONETTE']\n",
    "df_flat_model_price_ma['flat_type'] = \"EXECUTIVE MAISONETTE\"\n",
    "df_flat_multiple = pd.concat([df_flat_type_price_3room, df_flat_type_price_4room, df_flat_type_price_5room,\n",
    "                             df_flat_model_price_ea, df_flat_model_price_ma]).reset_index()"
   ]
  },
  {
   "cell_type": "code",
   "execution_count": null,
   "id": "31a29d9a",
   "metadata": {},
   "outputs": [],
   "source": [
    "def flat_lineplot(df, title):\n",
    "    fig = plt.figure(figsize = (15, 5))\n",
    "    plt.xlabel(\"Years\")\n",
    "    plt.ylabel(\"Resale Price\")\n",
    "    sns.lineplot(data=df, x=\"year\", y=\"resale_price\")\n",
    "    plt.title(title)"
   ]
  },
  {
   "cell_type": "code",
   "execution_count": null,
   "id": "85f24246",
   "metadata": {
    "scrolled": false
   },
   "outputs": [],
   "source": [
    "fig = plt.figure(figsize = (15, 10))\n",
    "plt.xlabel(\"Years\")\n",
    "plt.ylabel(\"Resale Price\")\n",
    "sns.lineplot(data=df_flat_multiple, x=\"year\", y=\"resale_price\", hue=\"flat_type\")\n",
    "plt.legend(bbox_to_anchor=(1.02, 1), loc='upper left', borderaxespad=0)\n",
    "plt.title(\"Overall\")"
   ]
  },
  {
   "cell_type": "code",
   "execution_count": null,
   "id": "bdf1bc96",
   "metadata": {},
   "outputs": [],
   "source": [
    "flat_lineplot(df_flat_type_price_3room, \"3 ROOM\")"
   ]
  },
  {
   "cell_type": "code",
   "execution_count": null,
   "id": "b074cab6",
   "metadata": {},
   "outputs": [],
   "source": [
    "flat_lineplot(df_flat_type_price_4room, \"4 ROOM\")"
   ]
  },
  {
   "cell_type": "code",
   "execution_count": null,
   "id": "7da83280",
   "metadata": {},
   "outputs": [],
   "source": [
    "flat_lineplot(df_flat_type_price_5room, \"5 ROOM\")"
   ]
  },
  {
   "cell_type": "code",
   "execution_count": null,
   "id": "2179c255",
   "metadata": {},
   "outputs": [],
   "source": [
    "flat_lineplot(df_flat_model_price_ea, \"EXECUTIVE APARTMENT\")"
   ]
  },
  {
   "cell_type": "code",
   "execution_count": null,
   "id": "e291f84c",
   "metadata": {},
   "outputs": [],
   "source": [
    "flat_lineplot(df_flat_model_price_ma, \"EXECUTIVE MAISONETTE\")"
   ]
  }
 ],
 "metadata": {
  "kernelspec": {
   "display_name": "Python 3 (ipykernel)",
   "language": "python",
   "name": "python3"
  },
  "language_info": {
   "codemirror_mode": {
    "name": "ipython",
    "version": 3
   },
   "file_extension": ".py",
   "mimetype": "text/x-python",
   "name": "python",
   "nbconvert_exporter": "python",
   "pygments_lexer": "ipython3",
   "version": "3.9.6"
  }
 },
 "nbformat": 4,
 "nbformat_minor": 5
}
