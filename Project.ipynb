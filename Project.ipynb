{
 "cells": [
  {
   "cell_type": "markdown",
   "id": "263d5996",
   "metadata": {},
   "source": [
    "## Basic Libraries"
   ]
  },
  {
   "cell_type": "code",
   "execution_count": null,
   "id": "74c352f4",
   "metadata": {},
   "outputs": [],
   "source": [
    "import numpy as np\n",
    "import pandas as pd\n",
    "import seaborn as sns\n",
    "import matplotlib.pyplot as plt\n",
    "sns.set() # set the default Seaborn style for graphics"
   ]
  },
  {
   "cell_type": "markdown",
   "id": "98a8697c",
   "metadata": {},
   "source": [
    "## Plotly Imports"
   ]
  },
  {
   "cell_type": "code",
   "execution_count": null,
   "id": "bdb9210b",
   "metadata": {},
   "outputs": [],
   "source": [
    "import matplotlib.ticker as ticker\n",
    "import json\n",
    "import plotly.express as px"
   ]
  },
  {
   "cell_type": "markdown",
   "id": "85194df2",
   "metadata": {},
   "source": [
    "## Import the Dataset"
   ]
  },
  {
   "cell_type": "markdown",
   "id": "4a8c9e30",
   "metadata": {},
   "source": [
    "Note: resale-flat-prices-based-on-approval-date-2000-feb-2012 is being split into two due to exceeding the size limit for Github.\n",
    "- resale-flat-prices-based-on-approval-date-2000-feb-2005.csv\n",
    "- resale-flat-prices-based-on-approval-date-2006-2012.csv"
   ]
  },
  {
   "cell_type": "code",
   "execution_count": null,
   "id": "71cddff8",
   "metadata": {},
   "outputs": [],
   "source": [
    "df_1990 = pd.read_csv('Resale Flat Prices/resale-flat-prices-based-on-approval-date-1990-1999.csv')\n",
    "df_2000 = pd.read_csv('Resale Flat Prices/resale-flat-prices-based-on-approval-date-2000-feb-2005.csv')\n",
    "df_2006 = pd.read_csv('Resale Flat Prices/resale-flat-prices-based-on-approval-date-2006-2012.csv')\n",
    "df_2012 = pd.read_csv('Resale Flat Prices/resale-flat-prices-based-on-registration-date-from-mar-2012-to-dec-2014.csv')\n",
    "df_2015 = pd.read_csv('Resale Flat Prices/resale-flat-prices-based-on-registration-date-from-jan-2015-to-dec-2016.csv')\n",
    "df_2017 = pd.read_csv('Resale Flat Prices/resale-flat-prices-based-on-registration-date-from-jan-2017-onwards.csv')"
   ]
  },
  {
   "cell_type": "code",
   "execution_count": null,
   "id": "4fd803ba",
   "metadata": {},
   "outputs": [],
   "source": [
    "df_main = pd.concat([df_1990, df_2000, df_2006, df_2012, df_2015, df_2017])\n",
    "df_main = df_main.reset_index(drop=True)"
   ]
  },
  {
   "cell_type": "markdown",
   "id": "8d380169",
   "metadata": {},
   "source": [
    "## Check out the Data"
   ]
  },
  {
   "cell_type": "code",
   "execution_count": null,
   "id": "0830d9c4",
   "metadata": {},
   "outputs": [],
   "source": [
    "df_main.head()"
   ]
  },
  {
   "cell_type": "code",
   "execution_count": null,
   "id": "e5bc6d53",
   "metadata": {},
   "outputs": [],
   "source": [
    "df_main.info()"
   ]
  },
  {
   "cell_type": "code",
   "execution_count": null,
   "id": "82575899",
   "metadata": {},
   "outputs": [],
   "source": [
    "df_main.nunique()"
   ]
  },
  {
   "cell_type": "code",
   "execution_count": null,
   "id": "a690bf42",
   "metadata": {
    "scrolled": true
   },
   "outputs": [],
   "source": [
    "df_main.month.unique()"
   ]
  },
  {
   "cell_type": "code",
   "execution_count": null,
   "id": "3b3ddbdd",
   "metadata": {},
   "outputs": [],
   "source": [
    "df_main.town.unique()"
   ]
  },
  {
   "cell_type": "code",
   "execution_count": null,
   "id": "dd722de8",
   "metadata": {},
   "outputs": [],
   "source": [
    "df_main.flat_type.unique()"
   ]
  },
  {
   "cell_type": "code",
   "execution_count": null,
   "id": "d101d305",
   "metadata": {},
   "outputs": [],
   "source": [
    "df_main.storey_range.unique()"
   ]
  },
  {
   "cell_type": "code",
   "execution_count": null,
   "id": "c9a48b08",
   "metadata": {},
   "outputs": [],
   "source": [
    "df_main.flat_model.unique()"
   ]
  },
  {
   "cell_type": "code",
   "execution_count": null,
   "id": "4ba336b5",
   "metadata": {},
   "outputs": [],
   "source": [
    "df_main.remaining_lease.unique()"
   ]
  },
  {
   "cell_type": "markdown",
   "id": "18cfeeec",
   "metadata": {},
   "source": [
    "# Data Cleaning"
   ]
  },
  {
   "cell_type": "code",
   "execution_count": null,
   "id": "288414c8",
   "metadata": {
    "scrolled": true
   },
   "outputs": [],
   "source": [
    "df_main"
   ]
  },
  {
   "cell_type": "code",
   "execution_count": null,
   "id": "0fa5f4af",
   "metadata": {},
   "outputs": [],
   "source": [
    "# Region \n",
    "\n",
    "df_main['town'] = df_main['town'].replace(['ANG MO KIO'],'NORTH-EAST REGION')\n",
    "df_main['town'] = df_main['town'].replace(['BEDOK'],'EAST REGION')\n",
    "df_main['town'] = df_main['town'].replace(['BISHAN'],'CENTRAL REGION')\n",
    "df_main['town'] = df_main['town'].replace(['BUKIT BATOK'],'WEST REGION')\n",
    "df_main['town'] = df_main['town'].replace(['BUKIT MERAH'],'CENTRAL REGION')\n",
    "df_main['town'] = df_main['town'].replace(['BUKIT TIMAH'],'CENTRAL REGION')\n",
    "df_main['town'] = df_main['town'].replace(['CENTRAL AREA'],'CENTRAL REGION')\n",
    "df_main['town'] = df_main['town'].replace(['CHOA CHU KANG'],'WEST REGION')\n",
    "df_main['town'] = df_main['town'].replace(['CLEMENTI'],'WEST REGION')\n",
    "df_main['town'] = df_main['town'].replace(['GEYLANG'],'CENTRAL REGION')\n",
    "df_main['town'] = df_main['town'].replace(['HOUGANG'],'NORTH-EAST REGION')\n",
    "df_main['town'] = df_main['town'].replace(['JURONG EAST'],'WEST REGION')\n",
    "df_main['town'] = df_main['town'].replace(['JURONG WEST'],'WEST REGION')\n",
    "df_main['town'] = df_main['town'].replace(['KALLANG/WHAMPOA'],'CENTRAL REGION')\n",
    "df_main['town'] = df_main['town'].replace(['MARINE PARADE'],'CENTRAL REGION')\n",
    "df_main['town'] = df_main['town'].replace(['QUEENSTOWN'],'CENTRAL REGION')\n",
    "df_main['town'] = df_main['town'].replace(['SENGKANG'],'NORTH-EAST REGION')\n",
    "df_main['town'] = df_main['town'].replace(['SERANGOON'],'NORTH-EAST REGION')\n",
    "df_main['town'] = df_main['town'].replace(['TAMPINES'],'EAST REGION')\n",
    "df_main['town'] = df_main['town'].replace(['TOA PAYOH'],'CENTRAL REGION')\n",
    "df_main['town'] = df_main['town'].replace(['WOODLANDS'],'NORTH REGION')\n",
    "df_main['town'] = df_main['town'].replace(['YISHUN'],'NORTH REGION')\n",
    "df_main['town'] = df_main['town'].replace(['LIM CHU KANG'],'NORTH REGION')\n",
    "df_main['town'] = df_main['town'].replace(['SEMBAWANG'],'NORTH REGION')\n",
    "df_main['town'] = df_main['town'].replace(['BUKIT PANJANG'],'WEST REGION')\n",
    "df_main['town'] = df_main['town'].replace(['PASIR RIS'],'EAST REGION')\n",
    "df_main['town'] = df_main['town'].replace(['PUNGGOL'],'NORTH-EAST REGION')"
   ]
  },
  {
   "cell_type": "code",
   "execution_count": null,
   "id": "d9da8639",
   "metadata": {},
   "outputs": [],
   "source": [
    "# Storey Range\n",
    "\n",
    "df_main['storey_range'] = df_main['storey_range'].replace(['10 TO 12'],'01 TO 15')\n",
    "df_main['storey_range'] = df_main['storey_range'].replace(['04 TO 06'],'01 TO 15')\n",
    "df_main['storey_range'] = df_main['storey_range'].replace(['07 TO 09'],'01 TO 15')\n",
    "df_main['storey_range'] = df_main['storey_range'].replace(['01 TO 03'],'01 TO 15')\n",
    "df_main['storey_range'] = df_main['storey_range'].replace(['13 TO 15'],'01 TO 15')\n",
    "df_main['storey_range'] = df_main['storey_range'].replace(['19 TO 21'],'16 TO 30')\n",
    "df_main['storey_range'] = df_main['storey_range'].replace(['16 TO 18'],'16 TO 30')\n",
    "df_main['storey_range'] = df_main['storey_range'].replace(['25 TO 27'],'16 TO 30')\n",
    "df_main['storey_range'] = df_main['storey_range'].replace(['22 TO 24'],'16 TO 30')\n",
    "df_main['storey_range'] = df_main['storey_range'].replace(['28 TO 30'],'16 TO 30')\n",
    "df_main['storey_range'] = df_main['storey_range'].replace(['31 TO 33'],'16 TO 30')\n",
    "df_main['storey_range'] = df_main['storey_range'].replace(['40 TO 42'],'31 TO 45')\n",
    "df_main['storey_range'] = df_main['storey_range'].replace(['37 TO 39'],'31 TO 45')\n",
    "df_main['storey_range'] = df_main['storey_range'].replace(['34 TO 36'],'31 TO 45')\n",
    "df_main['storey_range'] = df_main['storey_range'].replace(['06 TO 10'],'01 TO 15')\n",
    "df_main['storey_range'] = df_main['storey_range'].replace(['01 TO 05'],'01 TO 15')\n",
    "df_main['storey_range'] = df_main['storey_range'].replace(['11 TO 15'],'01 TO 15')\n",
    "df_main['storey_range'] = df_main['storey_range'].replace(['16 TO 20'],'16 TO 30')\n",
    "df_main['storey_range'] = df_main['storey_range'].replace(['21 TO 25'],'16 TO 30')\n",
    "df_main['storey_range'] = df_main['storey_range'].replace(['26 TO 30'],'16 TO 30')\n",
    "df_main['storey_range'] = df_main['storey_range'].replace(['36 TO 40'],'31 TO 45')\n",
    "df_main['storey_range'] = df_main['storey_range'].replace(['31 TO 35'],'31 TO 45')\n",
    "df_main['storey_range'] = df_main['storey_range'].replace(['46 TO 48'],'31 TO 45')\n",
    "df_main['storey_range'] = df_main['storey_range'].replace(['43 TO 45'],'31 TO 45')\n",
    "df_main['storey_range'] = df_main['storey_range'].replace(['49 TO 51'],'31 TO 45')"
   ]
  },
  {
   "cell_type": "code",
   "execution_count": null,
   "id": "57e0a57a",
   "metadata": {},
   "outputs": [],
   "source": [
    "# Splitting month into Month and Year\n",
    "\n",
    "df_main[['Year', 'Month']] = df_main['month'].str.split('-', expand=True) "
   ]
  },
  {
   "cell_type": "code",
   "execution_count": null,
   "id": "ded322c7",
   "metadata": {},
   "outputs": [],
   "source": [
    "# Lease Commence Date\n",
    "\n",
    "df_main['Year'] = df_main['Year'].astype(str).astype(int) \n",
    "\n",
    "df_main['lease_left']=(99 - (df_main['Year'] - df_main['lease_commence_date'])) "
   ]
  },
  {
   "cell_type": "markdown",
   "id": "6b0dd1d0",
   "metadata": {},
   "source": [
    "Flat differences\n",
    "\n",
    "Multi generation flat:\n",
    "- Current - 3 rooms (2 master room, 1 normal room) [excluding living room]\n",
    "- Previous (1980s) - 4-room or 5-room flat with an adjoining studio apartment that had a separate entrance"
   ]
  },
  {
   "cell_type": "code",
   "execution_count": null,
   "id": "8755d974",
   "metadata": {},
   "outputs": [],
   "source": [
    "# Replacing MULTI-GENERATION TO MULTI GENERATION\n",
    "\n",
    "df_main['flat_type'] = df_main['flat_type'].replace(['MULTI-GENERATION'],'MULTI GENERATION')"
   ]
  },
  {
   "cell_type": "markdown",
   "id": "576d5625",
   "metadata": {},
   "source": [
    "Type S1 and S2: (i.e. The Pinnacle@Duxton)\n",
    "- Special types, different unit variations – with dissimilar combinations of features such as extended bays, balconies, bay windows and planter areas.\n",
    "\n",
    "All the different models (Improved, Simplified etc):\n",
    "- Refers to the different model of each flat types, normally means floor plan is different, but all means the same type.\n",
    "\n",
    "Adjoined flat are 2 individual flats purchased side by side, and the owners link both units together.\n",
    "\n",
    "Loft apartment is flats with high ceiling, 1 staircase and 1 room on the top, normally located at the top of the building (something like penthouse but HDB version)\n",
    "\n",
    "Comparison between following models:\n",
    "- Apartment (1-level)\n",
    "- Maisonette (2-level, normally multiple units in 1 HDB building)\n",
    "- Terrace (2-levels, but a stand-alone building)"
   ]
  },
  {
   "cell_type": "code",
   "execution_count": null,
   "id": "b179e360",
   "metadata": {},
   "outputs": [],
   "source": [
    "# Flat Model\n",
    "\n",
    "df_main['flat_model'] = df_main['flat_model'].replace(['MODEL A-MAISONETTE','IMPROVED-MAISONETTE',\n",
    "                                                       'Model A-Maisonette','Improved-Maisonette', \n",
    "                                                       'Premium Maisonette', 'Maisonette'],\n",
    "                                                       'MAISONETTE')\n",
    "df_main['flat_model'] = df_main['flat_model'].replace(['PREMIUM APARTMENT','Apartment','Premium Apartment'],\n",
    "                                                       'APARTMENT')\n",
    "df_main['flat_model'] = df_main['flat_model'].replace(['Improved'],'IMPROVED')\n",
    "df_main['flat_model'] = df_main['flat_model'].replace(['New Generation'],'NEW GENERATION')\n",
    "df_main['flat_model'] = df_main['flat_model'].replace(['Model A'],'MODEL A')\n",
    "df_main['flat_model'] = df_main['flat_model'].replace(['Standard'],'STANDARD')\n",
    "df_main['flat_model'] = df_main['flat_model'].replace(['Simplified'],'SIMPLIFIED')\n",
    "df_main['flat_model'] = df_main['flat_model'].replace(['2-room','Model A2'],'2-ROOM')\n",
    "df_main['flat_model'] = df_main['flat_model'].replace(['Terrace'],'TERRACE')\n",
    "df_main['flat_model'] = df_main['flat_model'].replace(['Multi Generation'],'MULTI GENERATION')\n",
    "df_main['flat_model'] = df_main['flat_model'].replace(['Adjoined flat'],'ADJOINED FLAT')\n",
    "df_main['flat_model'] = df_main['flat_model'].replace(['Type S1', 'Type S2'],'TYPE S')\n",
    "df_main['flat_model'] = df_main['flat_model'].replace(['Premium Apartment Loft'],'LOFT APARTMENT')"
   ]
  },
  {
   "cell_type": "code",
   "execution_count": null,
   "id": "2b4dd84d",
   "metadata": {
    "scrolled": true
   },
   "outputs": [],
   "source": [
    "df_main"
   ]
  },
  {
   "cell_type": "code",
   "execution_count": null,
   "id": "c574bf22",
   "metadata": {},
   "outputs": [],
   "source": [
    "df_cleaned = df_main[['flat_type','block','street_name','storey_range','floor_area_sqm','flat_model',\n",
    "                      'resale_price','Year','lease_left','town']]\n",
    "df_cleaned = df_cleaned.rename(columns={\"Year\": \"year\", 'town' : 'region'})\n",
    "df_cleaned.head()"
   ]
  },
  {
   "cell_type": "code",
   "execution_count": null,
   "id": "476ca288",
   "metadata": {},
   "outputs": [],
   "source": [
    "df_cleaned.info()"
   ]
  },
  {
   "cell_type": "code",
   "execution_count": null,
   "id": "6a2b52ec",
   "metadata": {},
   "outputs": [],
   "source": [
    "df_cleaned.nunique()"
   ]
  },
  {
   "cell_type": "markdown",
   "id": "0c2946ab",
   "metadata": {},
   "source": [
    "Separating the data into decades.\n",
    "- 1990 to 1999\n",
    "- 2000 to 2009\n",
    "- 2010 to 2019\n",
    "- 2020 onwards"
   ]
  },
  {
   "cell_type": "code",
   "execution_count": null,
   "id": "15f9be74",
   "metadata": {},
   "outputs": [],
   "source": [
    "df_90 = df_cleaned[df_cleaned['year'] < 2000]\n",
    "df_90"
   ]
  },
  {
   "cell_type": "code",
   "execution_count": null,
   "id": "c9d5188c",
   "metadata": {},
   "outputs": [],
   "source": [
    "df_00 = df_cleaned[(df_cleaned['year'] >= 2000) & (df_cleaned['year'] < 2010)]\n",
    "df_00"
   ]
  },
  {
   "cell_type": "code",
   "execution_count": null,
   "id": "3a8ebf9e",
   "metadata": {},
   "outputs": [],
   "source": [
    "df_10 = df_cleaned[(df_cleaned['year'] >= 2010) & (df_cleaned['year'] < 2020)]\n",
    "df_10"
   ]
  },
  {
   "cell_type": "code",
   "execution_count": null,
   "id": "3e015dc1",
   "metadata": {},
   "outputs": [],
   "source": [
    "df_20 = df_cleaned[df_cleaned['year'] >= 2020]\n",
    "df_20"
   ]
  },
  {
   "cell_type": "markdown",
   "id": "b9dd904b",
   "metadata": {},
   "source": [
    "## Map Visualisation"
   ]
  },
  {
   "cell_type": "code",
   "execution_count": null,
   "id": "86d882cf",
   "metadata": {},
   "outputs": [],
   "source": [
    "f = open('Geojson/master-plan-2019-region-boundary-no-sea-geojson.geojson')\n",
    " \n",
    "data = json.load(f)"
   ]
  },
  {
   "cell_type": "code",
   "execution_count": null,
   "id": "f87fe802",
   "metadata": {},
   "outputs": [],
   "source": [
    "data"
   ]
  },
  {
   "cell_type": "code",
   "execution_count": null,
   "id": "6797758d",
   "metadata": {},
   "outputs": [],
   "source": [
    "data['features'][0]['properties']['region'] = 'WEST REGION'\n",
    "data['features'][1]['properties']['region'] = 'NORTH REGION'\n",
    "data['features'][2]['properties']['region'] = 'NORTH-EAST REGION'\n",
    "data['features'][3]['properties']['region'] = 'EAST REGION'\n",
    "data['features'][4]['properties']['region'] = 'CENTRAL REGION'"
   ]
  },
  {
   "cell_type": "code",
   "execution_count": null,
   "id": "f16ef26d",
   "metadata": {},
   "outputs": [],
   "source": [
    "print(df_cleaned[\"region\"][0])\n",
    "print(data['features'][0]['properties'])"
   ]
  },
  {
   "cell_type": "markdown",
   "id": "e7aeec1a",
   "metadata": {},
   "source": [
    "# Exploratory Data Analysis (EDA)"
   ]
  },
  {
   "cell_type": "markdown",
   "id": "be0319b2",
   "metadata": {},
   "source": [
    "## Overall across the years from 1990 to 2022"
   ]
  },
  {
   "cell_type": "code",
   "execution_count": null,
   "id": "fb83229f",
   "metadata": {},
   "outputs": [],
   "source": [
    "numeric_main = pd.DataFrame(df_cleaned[[\"floor_area_sqm\",\"resale_price\",\"lease_left\"]])\n",
    "numeric_main"
   ]
  },
  {
   "cell_type": "code",
   "execution_count": null,
   "id": "4554aa55",
   "metadata": {},
   "outputs": [],
   "source": [
    "def numeric_dist(df):\n",
    "\n",
    "    f, axes = plt.subplots(3, 3, figsize=(18, 18))\n",
    "    count = 0\n",
    "    for var in df:\n",
    "        sns.boxplot(data = df[var], orient = \"h\", ax = axes[count,0])\n",
    "        sns.histplot(data = df[var], ax = axes[count,1])\n",
    "        sns.violinplot(data = df[var], orient = \"h\", ax = axes[count,2])\n",
    "        count += 1"
   ]
  },
  {
   "cell_type": "code",
   "execution_count": null,
   "id": "02fd3558",
   "metadata": {},
   "outputs": [],
   "source": [
    "# Draw the Distributions of All Variables\n",
    "numeric_dist(numeric_main)"
   ]
  },
  {
   "cell_type": "code",
   "execution_count": null,
   "id": "5b47c651",
   "metadata": {},
   "outputs": [],
   "source": [
    "def numeric_corr(df):\n",
    "    \n",
    "    print(df.corr())\n",
    "    f = plt.figure(figsize=(8, 8))\n",
    "    sns.heatmap(df.corr(), vmin = -1, vmax = 1, linewidths = 1,\n",
    "               annot = True, fmt = \".2f\", annot_kws = {\"size\": 18}, cmap = \"RdBu\")"
   ]
  },
  {
   "cell_type": "code",
   "execution_count": null,
   "id": "3cdec2aa",
   "metadata": {
    "scrolled": false
   },
   "outputs": [],
   "source": [
    "# Heatmap of the Correlation Matrix\n",
    "numeric_corr(numeric_main)"
   ]
  },
  {
   "cell_type": "code",
   "execution_count": null,
   "id": "2efcccfe",
   "metadata": {
    "scrolled": false
   },
   "outputs": [],
   "source": [
    "sns.pairplot(data = numeric_main)"
   ]
  },
  {
   "cell_type": "code",
   "execution_count": null,
   "id": "0c1ecd7c",
   "metadata": {},
   "outputs": [],
   "source": [
    "def flat_type_flat_model(df):\n",
    "    \n",
    "    f = plt.figure(figsize=(20, 15))\n",
    "    sns.heatmap(df.groupby(['flat_type', 'flat_model']).size().unstack(), \n",
    "           linewidths = 1, annot = True, annot_kws = {\"size\": 18}, cmap = \"Blues\", fmt=\".0f\")    \n"
   ]
  },
  {
   "cell_type": "code",
   "execution_count": null,
   "id": "240d8ae7",
   "metadata": {},
   "outputs": [],
   "source": [
    "# Distribution Over Flat Type vs Flat Model\n",
    "flat_type_flat_model(df_cleaned)"
   ]
  },
  {
   "cell_type": "code",
   "execution_count": null,
   "id": "ad68be0e",
   "metadata": {},
   "outputs": [],
   "source": [
    "def flat_type_region(df):\n",
    "\n",
    "    f = plt.figure(figsize=(15, 10))\n",
    "    sns.heatmap(df.groupby(['flat_type', 'region']).size().unstack(), \n",
    "           linewidths = 1, annot = True, annot_kws = {\"size\": 18}, cmap = \"Blues\", fmt=\".0f\")"
   ]
  },
  {
   "cell_type": "code",
   "execution_count": null,
   "id": "37a2ccc4",
   "metadata": {},
   "outputs": [],
   "source": [
    "# Distribution Over Flat Type vs Region\n",
    "flat_type_region(df_cleaned)"
   ]
  },
  {
   "cell_type": "code",
   "execution_count": null,
   "id": "586551a7",
   "metadata": {},
   "outputs": [],
   "source": [
    "def storey_range_region(df):\n",
    "    \n",
    "    f = plt.figure(figsize=(10, 5))\n",
    "    sns.heatmap(df.groupby(['storey_range', 'region']).size().unstack(), \n",
    "           linewidths = 1, annot = True, annot_kws = {\"size\": 18}, cmap = \"Blues\", fmt=\".0f\")"
   ]
  },
  {
   "cell_type": "code",
   "execution_count": null,
   "id": "e521fe13",
   "metadata": {},
   "outputs": [],
   "source": [
    "# Distribution Over Storey Range vs Region\n",
    "storey_range_region(df_cleaned)"
   ]
  },
  {
   "cell_type": "code",
   "execution_count": null,
   "id": "f3934ffb",
   "metadata": {},
   "outputs": [],
   "source": [
    "def resale_price_region(df):\n",
    "    \n",
    "    fig, ax = plt.subplots(figsize=(15, 10))    \n",
    "    sns.boxplot(x ='resale_price', y ='region', data = df)\n",
    "    ax.xaxis.set_major_formatter(ticker.EngFormatter())\n",
    "    plt.show()"
   ]
  },
  {
   "cell_type": "code",
   "execution_count": null,
   "id": "b22ea20d",
   "metadata": {},
   "outputs": [],
   "source": [
    "# Distribution Over Resale Price vs Region\n",
    "resale_price_region(df_cleaned)"
   ]
  },
  {
   "cell_type": "code",
   "execution_count": null,
   "id": "d37b9544",
   "metadata": {},
   "outputs": [],
   "source": [
    "def resale_price_flat_model(df):\n",
    "\n",
    "    fig, ax = plt.subplots(figsize=(10, 10))    \n",
    "    sns.boxplot(x ='resale_price', y ='flat_model', data = df)\n",
    "    ax.xaxis.set_major_formatter(ticker.EngFormatter())\n",
    "    plt.show()"
   ]
  },
  {
   "cell_type": "code",
   "execution_count": null,
   "id": "9c878aa8",
   "metadata": {},
   "outputs": [],
   "source": [
    "# Distribution Over Resale Price vs Flat Model\n",
    "resale_price_flat_model(df_cleaned)"
   ]
  },
  {
   "cell_type": "code",
   "execution_count": null,
   "id": "ee0bd8f2",
   "metadata": {},
   "outputs": [],
   "source": [
    "df_overall = df_cleaned.groupby(['region']).mean().reset_index()"
   ]
  },
  {
   "cell_type": "code",
   "execution_count": null,
   "id": "551b6a66",
   "metadata": {},
   "outputs": [],
   "source": [
    "def map_visual(df):\n",
    "    \n",
    "    fig = px.choropleth_mapbox(df, geojson=data, color=\"resale_price\",\n",
    "                           locations=\"region\", featureidkey=\"properties.region\",\n",
    "                           center={\"lat\": 1.3302, \"lon\": 103.8519},\n",
    "                           color_continuous_scale = 'blues',\n",
    "                           mapbox_style=\"carto-positron\", zoom=10)\n",
    "    fig.update_layout(margin={\"r\":0,\"t\":0,\"l\":0,\"b\":0})\n",
    "    fig.show()"
   ]
  },
  {
   "cell_type": "code",
   "execution_count": null,
   "id": "dfe37924",
   "metadata": {
    "scrolled": false
   },
   "outputs": [],
   "source": [
    "# Map Visualisation for Overall Average Resale Price per Region\n",
    "map_visual(df_overall)"
   ]
  },
  {
   "cell_type": "markdown",
   "id": "882eddf3",
   "metadata": {},
   "source": [
    "## 1990 to 1999"
   ]
  },
  {
   "cell_type": "code",
   "execution_count": null,
   "id": "e3ad7fd2",
   "metadata": {},
   "outputs": [],
   "source": [
    "numeric_90 = pd.DataFrame(df_90[[\"floor_area_sqm\",\"resale_price\",\"lease_left\"]])\n",
    "numeric_90"
   ]
  },
  {
   "cell_type": "code",
   "execution_count": null,
   "id": "77308707",
   "metadata": {},
   "outputs": [],
   "source": [
    "# Draw the Distributions of All Variables\n",
    "numeric_dist(numeric_90)"
   ]
  },
  {
   "cell_type": "code",
   "execution_count": null,
   "id": "7ea6b1f9",
   "metadata": {},
   "outputs": [],
   "source": [
    "# Heatmap of the Correlation Matrix\n",
    "numeric_corr(numeric_90)"
   ]
  },
  {
   "cell_type": "code",
   "execution_count": null,
   "id": "a88b30ad",
   "metadata": {},
   "outputs": [],
   "source": [
    "sns.pairplot(data = numeric_90)"
   ]
  },
  {
   "cell_type": "code",
   "execution_count": null,
   "id": "04da6df9",
   "metadata": {},
   "outputs": [],
   "source": [
    "# Distribution Over Flat Type vs Flat Model\n",
    "flat_type_flat_model(df_90)"
   ]
  },
  {
   "cell_type": "code",
   "execution_count": null,
   "id": "c760acd9",
   "metadata": {},
   "outputs": [],
   "source": [
    "# Distribution Over Flat Type vs Region\n",
    "flat_type_region(df_90)"
   ]
  },
  {
   "cell_type": "code",
   "execution_count": null,
   "id": "2eb62c89",
   "metadata": {},
   "outputs": [],
   "source": [
    "# Distribution Over Storey Range vs Region\n",
    "storey_range_region(df_90)"
   ]
  },
  {
   "cell_type": "code",
   "execution_count": null,
   "id": "34695a6b",
   "metadata": {},
   "outputs": [],
   "source": [
    "# Distribution Over Resale Price vs Region\n",
    "resale_price_region(df_90)"
   ]
  },
  {
   "cell_type": "code",
   "execution_count": null,
   "id": "f08eb7a1",
   "metadata": {},
   "outputs": [],
   "source": [
    "# Distribution Over Resale Price vs Flat Model\n",
    "resale_price_flat_model(df_90)"
   ]
  },
  {
   "cell_type": "code",
   "execution_count": null,
   "id": "4b7d7974",
   "metadata": {},
   "outputs": [],
   "source": [
    "df_90overall = df_90.groupby(['region']).mean().reset_index()"
   ]
  },
  {
   "cell_type": "code",
   "execution_count": null,
   "id": "d72c64ed",
   "metadata": {},
   "outputs": [],
   "source": [
    "# Map Visualisation for Overall Average Resale Price per Region\n",
    "map_visual(df_90overall)"
   ]
  },
  {
   "cell_type": "markdown",
   "id": "a734b8a9",
   "metadata": {},
   "source": [
    "## 2000 to 2009"
   ]
  },
  {
   "cell_type": "code",
   "execution_count": null,
   "id": "e5fb6f59",
   "metadata": {},
   "outputs": [],
   "source": [
    "numeric_00= pd.DataFrame(df_00[[\"floor_area_sqm\",\"resale_price\",\"lease_left\"]])\n",
    "numeric_00.reset_index(drop=True, inplace=True)\n",
    "numeric_00"
   ]
  },
  {
   "cell_type": "code",
   "execution_count": null,
   "id": "006284fd",
   "metadata": {},
   "outputs": [],
   "source": [
    "# Draw the Distributions of All Variables\n",
    "numeric_dist(numeric_00)"
   ]
  },
  {
   "cell_type": "code",
   "execution_count": null,
   "id": "a972db75",
   "metadata": {},
   "outputs": [],
   "source": [
    "# Heatmap of the Correlation Matrix\n",
    "numeric_corr(numeric_00)"
   ]
  },
  {
   "cell_type": "code",
   "execution_count": null,
   "id": "ce8908ab",
   "metadata": {
    "scrolled": false
   },
   "outputs": [],
   "source": [
    "sns.pairplot(data = numeric_00)"
   ]
  },
  {
   "cell_type": "code",
   "execution_count": null,
   "id": "ee558045",
   "metadata": {},
   "outputs": [],
   "source": [
    "# Distribution Over Flat Type vs Flat Model\n",
    "flat_type_flat_model(df_00)"
   ]
  },
  {
   "cell_type": "code",
   "execution_count": null,
   "id": "48894ba9",
   "metadata": {},
   "outputs": [],
   "source": [
    "# Distribution Over Flat Type vs Region\n",
    "flat_type_region(df_00)"
   ]
  },
  {
   "cell_type": "code",
   "execution_count": null,
   "id": "570e9108",
   "metadata": {},
   "outputs": [],
   "source": [
    "# Distribution Over Storey Range vs Region\n",
    "storey_range_region(df_00)"
   ]
  },
  {
   "cell_type": "code",
   "execution_count": null,
   "id": "ebd96785",
   "metadata": {},
   "outputs": [],
   "source": [
    "# Distribution Over Resale Price vs Region\n",
    "resale_price_region(df_00)"
   ]
  },
  {
   "cell_type": "code",
   "execution_count": null,
   "id": "1608bc80",
   "metadata": {},
   "outputs": [],
   "source": [
    "# Distribution Over Resale Price vs Flat Model\n",
    "resale_price_flat_model(df_00)"
   ]
  },
  {
   "cell_type": "code",
   "execution_count": null,
   "id": "c9b7fc48",
   "metadata": {},
   "outputs": [],
   "source": [
    "df_00overall = df_00.groupby(['region']).mean().reset_index()"
   ]
  },
  {
   "cell_type": "code",
   "execution_count": null,
   "id": "f7cc93b2",
   "metadata": {
    "scrolled": false
   },
   "outputs": [],
   "source": [
    "# Map Visualisation for Overall Average Resale Price per Region\n",
    "map_visual(df_00overall)"
   ]
  },
  {
   "cell_type": "markdown",
   "id": "535f9a78",
   "metadata": {},
   "source": [
    "## 2010 to 2019"
   ]
  },
  {
   "cell_type": "code",
   "execution_count": null,
   "id": "d382a4aa",
   "metadata": {},
   "outputs": [],
   "source": [
    "numeric_10= pd.DataFrame(df_10[[\"floor_area_sqm\",\"resale_price\",\"lease_left\"]])\n",
    "numeric_10.reset_index(drop=True, inplace=True)\n",
    "numeric_10"
   ]
  },
  {
   "cell_type": "code",
   "execution_count": null,
   "id": "e1e2ad74",
   "metadata": {},
   "outputs": [],
   "source": [
    "# Draw the Distributions of All Variables\n",
    "numeric_dist(numeric_10)"
   ]
  },
  {
   "cell_type": "code",
   "execution_count": null,
   "id": "93cb09cd",
   "metadata": {},
   "outputs": [],
   "source": [
    "# Heatmap of the Correlation Matrix\n",
    "numeric_corr(numeric_10)"
   ]
  },
  {
   "cell_type": "code",
   "execution_count": null,
   "id": "ec870131",
   "metadata": {},
   "outputs": [],
   "source": [
    "sns.pairplot(data = numeric_10)"
   ]
  },
  {
   "cell_type": "code",
   "execution_count": null,
   "id": "360e710b",
   "metadata": {},
   "outputs": [],
   "source": [
    "# Distribution Over Flat Type vs Flat Model\n",
    "flat_type_flat_model(df_10)"
   ]
  },
  {
   "cell_type": "code",
   "execution_count": null,
   "id": "d9768554",
   "metadata": {},
   "outputs": [],
   "source": [
    "# Distribution Over Flat Type vs Region\n",
    "flat_type_region(df_10)"
   ]
  },
  {
   "cell_type": "code",
   "execution_count": null,
   "id": "9a9f4fcc",
   "metadata": {},
   "outputs": [],
   "source": [
    "# Distribution Over Storey Range vs Region\n",
    "storey_range_region(df_10)"
   ]
  },
  {
   "cell_type": "code",
   "execution_count": null,
   "id": "be7a363e",
   "metadata": {},
   "outputs": [],
   "source": [
    "# Distribution Over Resale Price vs Region\n",
    "resale_price_region(df_10)"
   ]
  },
  {
   "cell_type": "code",
   "execution_count": null,
   "id": "40644745",
   "metadata": {},
   "outputs": [],
   "source": [
    "# Distribution Over Resale Price vs Flat Model\n",
    "resale_price_flat_model(df_10)"
   ]
  },
  {
   "cell_type": "code",
   "execution_count": null,
   "id": "0f923ef2",
   "metadata": {},
   "outputs": [],
   "source": [
    "df_10overall = df_10.groupby(['region']).mean().reset_index()"
   ]
  },
  {
   "cell_type": "code",
   "execution_count": null,
   "id": "a8805d16",
   "metadata": {},
   "outputs": [],
   "source": [
    "# Map Visualisation for Overall Average Resale Price per Region\n",
    "map_visual(df_10overall)"
   ]
  },
  {
   "cell_type": "markdown",
   "id": "56ac78b8",
   "metadata": {},
   "source": [
    "## 2020 onwards"
   ]
  },
  {
   "cell_type": "code",
   "execution_count": null,
   "id": "6edfe0e8",
   "metadata": {},
   "outputs": [],
   "source": [
    "numeric_20= pd.DataFrame(df_20[[\"floor_area_sqm\",\"resale_price\",\"lease_left\"]])\n",
    "numeric_20.reset_index(drop=True, inplace=True)\n",
    "numeric_20"
   ]
  },
  {
   "cell_type": "code",
   "execution_count": null,
   "id": "b85cd1c6",
   "metadata": {},
   "outputs": [],
   "source": [
    "# Draw the Distributions of All Variables\n",
    "numeric_dist(numeric_20)"
   ]
  },
  {
   "cell_type": "code",
   "execution_count": null,
   "id": "df733149",
   "metadata": {},
   "outputs": [],
   "source": [
    "# Heatmap of the Correlation Matrix\n",
    "numeric_corr(numeric_20)"
   ]
  },
  {
   "cell_type": "code",
   "execution_count": null,
   "id": "50da3062",
   "metadata": {},
   "outputs": [],
   "source": [
    "sns.pairplot(data = numeric_20)"
   ]
  },
  {
   "cell_type": "code",
   "execution_count": null,
   "id": "05e5e8da",
   "metadata": {},
   "outputs": [],
   "source": [
    "# Distribution Over Flat Type vs Flat Model\n",
    "flat_type_flat_model(df_cleaned)"
   ]
  },
  {
   "cell_type": "code",
   "execution_count": null,
   "id": "1afa83e0",
   "metadata": {},
   "outputs": [],
   "source": [
    "# Distribution Over Flat Type vs Region\n",
    "flat_type_region(df_cleaned)"
   ]
  },
  {
   "cell_type": "code",
   "execution_count": null,
   "id": "4bdba573",
   "metadata": {},
   "outputs": [],
   "source": [
    "# Distribution Over Storey Range vs Region\n",
    "storey_range_region(df_cleaned)"
   ]
  },
  {
   "cell_type": "code",
   "execution_count": null,
   "id": "e55e8fff",
   "metadata": {},
   "outputs": [],
   "source": [
    "# Distribution Over Resale Price vs Region\n",
    "resale_price_region(df_cleaned)"
   ]
  },
  {
   "cell_type": "code",
   "execution_count": null,
   "id": "06951eff",
   "metadata": {},
   "outputs": [],
   "source": [
    "# Distribution Over Resale Price vs Flat Model\n",
    "resale_price_flat_model(df_cleaned)"
   ]
  },
  {
   "cell_type": "code",
   "execution_count": null,
   "id": "5855be87",
   "metadata": {},
   "outputs": [],
   "source": [
    "df_20overall = df_20.groupby(['region']).mean().reset_index()"
   ]
  },
  {
   "cell_type": "code",
   "execution_count": null,
   "id": "0abc2138",
   "metadata": {},
   "outputs": [],
   "source": [
    "# Map Visualisation for Overall Average Resale Price per Region\n",
    "map_visual(df_20overall)"
   ]
  },
  {
   "cell_type": "markdown",
   "id": "50de889f",
   "metadata": {},
   "source": [
    "FOR EACH YEAR:\n",
    "\n",
    "region, 3 areas in singapore (north-east, central, west)\n",
    "\n",
    "resale price of flat models (3 room, 4 room, 5 room, EA, EM)\n",
    "\n",
    "average resale price/number of units to see the trend\n",
    "\n",
    "FOR EACH GEN:\n",
    "\n",
    "show graph of average and see resale price up or down"
   ]
  },
  {
   "cell_type": "code",
   "execution_count": null,
   "id": "20b2021d",
   "metadata": {},
   "outputs": [],
   "source": [
    "df_flat_overall_price = df_cleaned.groupby(['year'])['resale_price'].mean().reset_index()\n",
    "df_flat_type_price = df_cleaned.groupby(['year','flat_type'])['resale_price'].mean().reset_index()\n",
    "df_flat_model_price = df_cleaned.groupby(['year','flat_model'])['resale_price'].mean().reset_index()"
   ]
  },
  {
   "cell_type": "code",
   "execution_count": null,
   "id": "970a492b",
   "metadata": {},
   "outputs": [],
   "source": [
    "df_flat_type_price_3room = df_flat_type_price.loc[df_flat_type_price['flat_type'] == '3 ROOM']\n",
    "df_flat_type_price_4room = df_flat_type_price.loc[df_flat_type_price['flat_type'] == '4 ROOM']\n",
    "df_flat_type_price_5room = df_flat_type_price.loc[df_flat_type_price['flat_type'] == '5 ROOM']\n",
    "df_flat_model_price_ea = df_flat_model_price.loc[df_flat_model_price['flat_model'] == 'APARTMENT']\n",
    "df_flat_model_price_ea['flat_type'] = \"EXECUTIVE APARTMENT\"\n",
    "df_flat_model_price_ma = df_flat_model_price.loc[df_flat_model_price['flat_model'] == 'MAISONETTE']\n",
    "df_flat_model_price_ma['flat_type'] = \"EXECUTIVE MAISONETTE\"\n",
    "df_flat_multiple = pd.concat([df_flat_type_price_3room, df_flat_type_price_4room, df_flat_type_price_5room,\n",
    "                             df_flat_model_price_ea, df_flat_model_price_ma]).reset_index()"
   ]
  },
  {
   "cell_type": "code",
   "execution_count": null,
   "id": "401735fc",
   "metadata": {},
   "outputs": [],
   "source": [
    "def flat_lineplot(df, title):\n",
    "    fig = plt.figure(figsize = (15, 5))\n",
    "    plt.xlabel(\"Years\")\n",
    "    plt.ylabel(\"Resale Price\")\n",
    "    sns.lineplot(data=df, x=\"year\", y=\"resale_price\")\n",
    "    plt.title(title)"
   ]
  },
  {
   "cell_type": "code",
   "execution_count": null,
   "id": "76bf4b85",
   "metadata": {
    "scrolled": false
   },
   "outputs": [],
   "source": [
    "fig = plt.figure(figsize = (15, 10))\n",
    "plt.xlabel(\"Years\")\n",
    "plt.ylabel(\"Resale Price\")\n",
    "sns.lineplot(data=df_flat_multiple, x=\"year\", y=\"resale_price\", hue=\"flat_type\")\n",
    "plt.legend(bbox_to_anchor=(1.02, 1), loc='upper left', borderaxespad=0)\n",
    "plt.title(\"Overall\")"
   ]
  },
  {
   "cell_type": "code",
   "execution_count": null,
   "id": "f996633f",
   "metadata": {},
   "outputs": [],
   "source": [
    "flat_lineplot(df_flat_type_price_3room, \"3 ROOM\")"
   ]
  },
  {
   "cell_type": "code",
   "execution_count": null,
   "id": "8bf38bc1",
   "metadata": {},
   "outputs": [],
   "source": [
    "flat_lineplot(df_flat_type_price_4room, \"4 ROOM\")"
   ]
  },
  {
   "cell_type": "code",
   "execution_count": null,
   "id": "c6766db7",
   "metadata": {},
   "outputs": [],
   "source": [
    "flat_lineplot(df_flat_type_price_5room, \"5 ROOM\")"
   ]
  },
  {
   "cell_type": "code",
   "execution_count": null,
   "id": "1ca031d1",
   "metadata": {},
   "outputs": [],
   "source": [
    "flat_lineplot(df_flat_model_price_ea, \"EXECUTIVE APARTMENT\")"
   ]
  },
  {
   "cell_type": "code",
   "execution_count": null,
   "id": "b60b05e5",
   "metadata": {},
   "outputs": [],
   "source": [
    "flat_lineplot(df_flat_model_price_ma, \"EXECUTIVE MAISONETTE\")"
   ]
  },
  {
   "cell_type": "markdown",
   "id": "aff9f00e",
   "metadata": {},
   "source": [
    "# Machine Learning"
   ]
  },
  {
   "cell_type": "markdown",
   "id": "88308513",
   "metadata": {},
   "source": [
    "## Import Libraries"
   ]
  },
  {
   "cell_type": "code",
   "execution_count": null,
   "id": "cc75bc35",
   "metadata": {},
   "outputs": [],
   "source": [
    "from sklearn.linear_model import LinearRegression\n",
    "from sklearn import metrics\n",
    "lm = LinearRegression()"
   ]
  },
  {
   "cell_type": "markdown",
   "id": "4dcbbc6f",
   "metadata": {},
   "source": [
    "## Training and Testing Data"
   ]
  },
  {
   "cell_type": "markdown",
   "id": "2ce98a48",
   "metadata": {},
   "source": [
    "## Testing Data: 2020 onwards"
   ]
  },
  {
   "cell_type": "code",
   "execution_count": null,
   "id": "3c16d335",
   "metadata": {},
   "outputs": [],
   "source": [
    "y_test_price = numeric_20['resale_price']\n",
    "X_test_area = numeric_20[['floor_area_sqm']]\n",
    "X_test_ll = numeric_20[['lease_left']]"
   ]
  },
  {
   "cell_type": "markdown",
   "id": "27acce32",
   "metadata": {},
   "source": [
    "## Training Data: 1990 to 1999"
   ]
  },
  {
   "cell_type": "code",
   "execution_count": null,
   "id": "5b81c560",
   "metadata": {},
   "outputs": [],
   "source": [
    "y_train90_price = numeric_90['resale_price']\n",
    "X_train90_area = numeric_90[['floor_area_sqm']]\n",
    "X_train90_ll = numeric_90[['lease_left']]"
   ]
  },
  {
   "cell_type": "markdown",
   "id": "ffd9f8b9",
   "metadata": {},
   "source": [
    "## Training the model: Area vs Price"
   ]
  },
  {
   "cell_type": "code",
   "execution_count": null,
   "id": "14f669bd",
   "metadata": {},
   "outputs": [],
   "source": [
    "lm.fit(X_train90_area,y_train90_price)"
   ]
  },
  {
   "cell_type": "markdown",
   "id": "82712132",
   "metadata": {},
   "source": [
    "## Model Evaluation "
   ]
  },
  {
   "cell_type": "code",
   "execution_count": null,
   "id": "b92f556f",
   "metadata": {},
   "outputs": [],
   "source": [
    "print('Intercept \\t a: ', + lm.intercept_)\n",
    "print('Coefficient \\t b: ', + lm.coef_)"
   ]
  },
  {
   "cell_type": "code",
   "execution_count": null,
   "id": "ebca118c",
   "metadata": {},
   "outputs": [],
   "source": [
    "# Formula for the Regression line\n",
    "regline_x = X_train90_area\n",
    "regline_y = lm.intercept_ + lm.coef_ * X_train90_area\n",
    "\n",
    "# Plot the Linear Regression line\n",
    "plt.figure(figsize=(16, 8))\n",
    "plt.scatter(X_train90_area, y_train90_price)\n",
    "plt.plot(regline_x, regline_y, 'r-', linewidth = 3)\n",
    "plt.show()"
   ]
  },
  {
   "cell_type": "markdown",
   "id": "e25380e9",
   "metadata": {},
   "source": [
    "## Predictions from the model"
   ]
  },
  {
   "cell_type": "code",
   "execution_count": null,
   "id": "012a6a1f",
   "metadata": {},
   "outputs": [],
   "source": [
    "predictions = lm.predict(X_test_area)"
   ]
  },
  {
   "cell_type": "code",
   "execution_count": null,
   "id": "bd0c44c6",
   "metadata": {},
   "outputs": [],
   "source": [
    "plt.figure(figsize=(16, 8))\n",
    "plt.scatter(X_test_area,y_test_price)\n",
    "plt.scatter(X_test_area, predictions, color = \"r\")"
   ]
  },
  {
   "cell_type": "code",
   "execution_count": null,
   "id": "69d90426",
   "metadata": {},
   "outputs": [],
   "source": [
    "print('floor_area_sqm')\n",
    "print('Explained Variance (R^2):', lm.score(X_train90_area, y_train90_price))\n",
    "print('Mean Squared Error (MSE):', metrics.mean_squared_error(y_test_price, predictions))\n",
    "print('Root Mean Squared Error (RMSE):', np.sqrt(metrics.mean_squared_error(y_test_price, predictions)))"
   ]
  },
  {
   "cell_type": "code",
   "execution_count": null,
   "id": "386b2222",
   "metadata": {},
   "outputs": [],
   "source": [
    "data = [{'R2': lm.score(X_train90_area, y_train90_price),\n",
    "        'MSE': metrics.mean_squared_error(y_test_price, predictions),\n",
    "        'RMSE': np.sqrt(metrics.mean_squared_error(y_test_price, predictions))}]\n",
    "df_lr_90_area = pd.DataFrame(data)\n",
    "df_lr_90_area['Period'] = '90'"
   ]
  },
  {
   "cell_type": "markdown",
   "id": "5905c057",
   "metadata": {},
   "source": [
    "## Training the model: Lease vs Price"
   ]
  },
  {
   "cell_type": "code",
   "execution_count": null,
   "id": "bad4833a",
   "metadata": {},
   "outputs": [],
   "source": [
    "lm.fit(X_train90_ll,y_train90_price)"
   ]
  },
  {
   "cell_type": "markdown",
   "id": "f3db53e2",
   "metadata": {},
   "source": [
    "## Model Evaluation "
   ]
  },
  {
   "cell_type": "code",
   "execution_count": null,
   "id": "74afb8e8",
   "metadata": {},
   "outputs": [],
   "source": [
    "print('Intercept \\t a: ', + lm.intercept_)\n",
    "print('Coefficient \\t b: ', + lm.coef_)"
   ]
  },
  {
   "cell_type": "code",
   "execution_count": null,
   "id": "f5aeda24",
   "metadata": {},
   "outputs": [],
   "source": [
    "# Formula for the Regression line\n",
    "regline_x = X_train90_ll\n",
    "regline_y = lm.intercept_ + lm.coef_ * X_train90_ll\n",
    "\n",
    "# Plot the Linear Regression line\n",
    "plt.figure(figsize=(16, 8))\n",
    "plt.scatter(X_train90_ll, y_train90_price)\n",
    "plt.plot(regline_x, regline_y, 'r-', linewidth = 3)\n",
    "plt.show()"
   ]
  },
  {
   "cell_type": "markdown",
   "id": "079ff3cb",
   "metadata": {},
   "source": [
    "## Predictions from the model"
   ]
  },
  {
   "cell_type": "code",
   "execution_count": null,
   "id": "99eb8c16",
   "metadata": {},
   "outputs": [],
   "source": [
    "predictions = lm.predict(X_test_ll)"
   ]
  },
  {
   "cell_type": "code",
   "execution_count": null,
   "id": "9c12b9bd",
   "metadata": {},
   "outputs": [],
   "source": [
    "plt.figure(figsize=(16, 8))\n",
    "plt.scatter(X_test_ll,y_test_price)\n",
    "plt.scatter(X_test_ll, predictions, color = \"r\")"
   ]
  },
  {
   "cell_type": "code",
   "execution_count": null,
   "id": "05a7f39b",
   "metadata": {},
   "outputs": [],
   "source": [
    "print('floor_area_sqm')\n",
    "print('Explained Variance (R^2):', lm.score(X_train90_ll, y_train90_price))\n",
    "print('Mean Squared Error (MSE):', metrics.mean_squared_error(y_test_price, predictions))\n",
    "print('Root Mean Squared Error (RMSE):', np.sqrt(metrics.mean_squared_error(y_test_price, predictions)))"
   ]
  },
  {
   "cell_type": "code",
   "execution_count": null,
   "id": "a1d8fec1",
   "metadata": {},
   "outputs": [],
   "source": [
    "data = [{'R2': lm.score(X_train90_ll, y_train90_price),\n",
    "        'MSE': metrics.mean_squared_error(y_test_price, predictions),\n",
    "        'RMSE': np.sqrt(metrics.mean_squared_error(y_test_price, predictions))}]\n",
    "df_lr_90_ll = pd.DataFrame(data)\n",
    "df_lr_90_ll['Period'] = '90'"
   ]
  },
  {
   "cell_type": "markdown",
   "id": "c018c6ae",
   "metadata": {},
   "source": [
    "## Training Data: 2000 to 2009"
   ]
  },
  {
   "cell_type": "code",
   "execution_count": null,
   "id": "3b37dc8a",
   "metadata": {},
   "outputs": [],
   "source": [
    "y_train00_price = numeric_00['resale_price']\n",
    "X_train00_area = numeric_00[['floor_area_sqm']]\n",
    "X_train00_ll = numeric_00[['lease_left']]"
   ]
  },
  {
   "cell_type": "markdown",
   "id": "739480f2",
   "metadata": {},
   "source": [
    "## Training the model: Area vs Price"
   ]
  },
  {
   "cell_type": "code",
   "execution_count": null,
   "id": "927d7573",
   "metadata": {},
   "outputs": [],
   "source": [
    "lm.fit(X_train00_area,y_train00_price)"
   ]
  },
  {
   "cell_type": "markdown",
   "id": "55cbf78b",
   "metadata": {},
   "source": [
    "## Model Evaluation "
   ]
  },
  {
   "cell_type": "code",
   "execution_count": null,
   "id": "7cf51c8e",
   "metadata": {},
   "outputs": [],
   "source": [
    "print('Intercept \\t a: ', + lm.intercept_)\n",
    "print('Coefficient \\t b: ', + lm.coef_)"
   ]
  },
  {
   "cell_type": "code",
   "execution_count": null,
   "id": "0da2fc19",
   "metadata": {},
   "outputs": [],
   "source": [
    "# Formula for the Regression line\n",
    "regline_x = X_train00_area\n",
    "regline_y = lm.intercept_ + lm.coef_ * X_train00_area\n",
    "\n",
    "# Plot the Linear Regression line\n",
    "plt.figure(figsize=(16, 8))\n",
    "plt.scatter(X_train00_area, y_train00_price)\n",
    "plt.plot(regline_x, regline_y, 'r-', linewidth = 3)\n",
    "plt.show()"
   ]
  },
  {
   "cell_type": "markdown",
   "id": "7b600bf3",
   "metadata": {},
   "source": [
    "## Predictions from the model"
   ]
  },
  {
   "cell_type": "code",
   "execution_count": null,
   "id": "11deca9e",
   "metadata": {},
   "outputs": [],
   "source": [
    "predictions = lm.predict(X_test_area)"
   ]
  },
  {
   "cell_type": "code",
   "execution_count": null,
   "id": "fe2a3be5",
   "metadata": {},
   "outputs": [],
   "source": [
    "plt.figure(figsize=(16, 8))\n",
    "plt.scatter(X_test_area,y_test_price)\n",
    "plt.scatter(X_test_area, predictions, color = \"r\")"
   ]
  },
  {
   "cell_type": "code",
   "execution_count": null,
   "id": "b6d048a8",
   "metadata": {},
   "outputs": [],
   "source": [
    "print('floor_area_sqm')\n",
    "print('Explained Variance (R^2):', lm.score(X_train00_area, y_train00_price))\n",
    "print('Mean Squared Error (MSE):', round(metrics.mean_squared_error(y_test_price, predictions)))\n",
    "print('Root Mean Squared Error (RMSE):', round(np.sqrt(metrics.mean_squared_error(y_test_price, predictions))))"
   ]
  },
  {
   "cell_type": "code",
   "execution_count": null,
   "id": "60e9b45f",
   "metadata": {},
   "outputs": [],
   "source": [
    "data = [{'R2': lm.score(X_train00_area, y_train00_price),\n",
    "        'MSE': metrics.mean_squared_error(y_test_price, predictions),\n",
    "        'RMSE': np.sqrt(metrics.mean_squared_error(y_test_price, predictions))}]\n",
    "df_lr_00_area = pd.DataFrame(data)\n",
    "df_lr_00_area['Period'] = '00'"
   ]
  },
  {
   "cell_type": "markdown",
   "id": "b76243b6",
   "metadata": {},
   "source": [
    "## Training the model: Lease vs Price"
   ]
  },
  {
   "cell_type": "code",
   "execution_count": null,
   "id": "4599788d",
   "metadata": {},
   "outputs": [],
   "source": [
    "lm.fit(X_train00_ll,y_train00_price)"
   ]
  },
  {
   "cell_type": "markdown",
   "id": "c28e7688",
   "metadata": {},
   "source": [
    "## Model Evaluation "
   ]
  },
  {
   "cell_type": "code",
   "execution_count": null,
   "id": "d29a8efd",
   "metadata": {},
   "outputs": [],
   "source": [
    "print('Intercept \\t a: ', + lm.intercept_)\n",
    "print('Coefficient \\t b: ', + lm.coef_)"
   ]
  },
  {
   "cell_type": "code",
   "execution_count": null,
   "id": "1e3edc8f",
   "metadata": {},
   "outputs": [],
   "source": [
    "# Formula for the Regression line\n",
    "regline_x = X_train00_ll\n",
    "regline_y = lm.intercept_ + lm.coef_ * X_train00_ll\n",
    "\n",
    "# Plot the Linear Regression line\n",
    "plt.figure(figsize=(16, 8))\n",
    "plt.scatter(X_train00_ll, y_train00_price)\n",
    "plt.plot(regline_x, regline_y, 'r-', linewidth = 3)\n",
    "plt.show()"
   ]
  },
  {
   "cell_type": "markdown",
   "id": "10acbda6",
   "metadata": {},
   "source": [
    "## Predictions from the model"
   ]
  },
  {
   "cell_type": "code",
   "execution_count": null,
   "id": "abbb4dcb",
   "metadata": {},
   "outputs": [],
   "source": [
    "predictions = lm.predict(X_test_ll)"
   ]
  },
  {
   "cell_type": "code",
   "execution_count": null,
   "id": "bb1e73bb",
   "metadata": {},
   "outputs": [],
   "source": [
    "plt.figure(figsize=(16, 8))\n",
    "plt.scatter(X_test_ll,y_test_price)\n",
    "plt.scatter(X_test_ll, predictions, color = \"r\")"
   ]
  },
  {
   "cell_type": "code",
   "execution_count": null,
   "id": "cd28822e",
   "metadata": {},
   "outputs": [],
   "source": [
    "print('floor_area_sqm')\n",
    "print('Explained Variance (R^2):', lm.score(X_train00_ll, y_train00_price))\n",
    "print('Mean Squared Error (MSE):', metrics.mean_squared_error(y_test_price, predictions))\n",
    "print('Root Mean Squared Error (RMSE):', np.sqrt(metrics.mean_squared_error(y_test_price, predictions)))"
   ]
  },
  {
   "cell_type": "code",
   "execution_count": null,
   "id": "e3ba3b19",
   "metadata": {},
   "outputs": [],
   "source": [
    "data = [{'R2': lm.score(X_train00_ll, y_train00_price),\n",
    "        'MSE': metrics.mean_squared_error(y_test_price, predictions),\n",
    "        'RMSE': np.sqrt(metrics.mean_squared_error(y_test_price, predictions))}]\n",
    "df_lr_00_ll = pd.DataFrame(data)\n",
    "df_lr_00_ll['Period'] = '00'"
   ]
  },
  {
   "cell_type": "markdown",
   "id": "504462e6",
   "metadata": {},
   "source": [
    "## Training Data: 2010 to 2019"
   ]
  },
  {
   "cell_type": "code",
   "execution_count": null,
   "id": "7bdf4f4a",
   "metadata": {},
   "outputs": [],
   "source": [
    "y_train10_price = numeric_10['resale_price']\n",
    "X_train10_area = numeric_10[['floor_area_sqm']]\n",
    "X_train10_ll = numeric_10[['lease_left']]"
   ]
  },
  {
   "cell_type": "markdown",
   "id": "386ce112",
   "metadata": {},
   "source": [
    "## Training the model: Area vs Price"
   ]
  },
  {
   "cell_type": "code",
   "execution_count": null,
   "id": "45b1e972",
   "metadata": {},
   "outputs": [],
   "source": [
    "lm.fit(X_train10_area,y_train10_price)"
   ]
  },
  {
   "cell_type": "markdown",
   "id": "34342dca",
   "metadata": {},
   "source": [
    "## Model Evaluation "
   ]
  },
  {
   "cell_type": "code",
   "execution_count": null,
   "id": "ada2674c",
   "metadata": {},
   "outputs": [],
   "source": [
    "print('Intercept \\t a: ', + lm.intercept_)\n",
    "print('Coefficient \\t b: ', + lm.coef_)"
   ]
  },
  {
   "cell_type": "code",
   "execution_count": null,
   "id": "fa2939f7",
   "metadata": {},
   "outputs": [],
   "source": [
    "# Formula for the Regression line\n",
    "regline_x = X_train10_area\n",
    "regline_y = lm.intercept_ + lm.coef_ * X_train10_area\n",
    "\n",
    "# Plot the Linear Regression line\n",
    "plt.figure(figsize=(16, 8))\n",
    "plt.scatter(X_train10_area, y_train10_price)\n",
    "plt.plot(regline_x, regline_y, 'r-', linewidth = 3)\n",
    "plt.show()"
   ]
  },
  {
   "cell_type": "markdown",
   "id": "f2b16a6d",
   "metadata": {},
   "source": [
    "## Predictions from the model"
   ]
  },
  {
   "cell_type": "code",
   "execution_count": null,
   "id": "c626d82c",
   "metadata": {},
   "outputs": [],
   "source": [
    "predictions = lm.predict(X_test_area)"
   ]
  },
  {
   "cell_type": "code",
   "execution_count": null,
   "id": "20bb38a8",
   "metadata": {},
   "outputs": [],
   "source": [
    "plt.figure(figsize=(16, 8))\n",
    "plt.scatter(X_test_area,y_test_price)\n",
    "plt.scatter(X_test_area, predictions, color = \"r\")"
   ]
  },
  {
   "cell_type": "code",
   "execution_count": null,
   "id": "a5f8b3e8",
   "metadata": {},
   "outputs": [],
   "source": [
    "print('floor_area_sqm')\n",
    "print('Explained Variance (R^2):', lm.score(X_train10_area, y_train10_price))\n",
    "print('Mean Squared Error (MSE):', metrics.mean_squared_error(y_test_price, predictions))\n",
    "print('Root Mean Squared Error (RMSE):', np.sqrt(metrics.mean_squared_error(y_test_price, predictions)))"
   ]
  },
  {
   "cell_type": "code",
   "execution_count": null,
   "id": "6333ad42",
   "metadata": {},
   "outputs": [],
   "source": [
    "data = [{'R2': lm.score(X_train10_area, y_train10_price),\n",
    "        'MSE': metrics.mean_squared_error(y_test_price, predictions),\n",
    "        'RMSE': np.sqrt(metrics.mean_squared_error(y_test_price, predictions))}]\n",
    "df_lr_10_area = pd.DataFrame(data)\n",
    "df_lr_10_area['Period'] = '10'"
   ]
  },
  {
   "cell_type": "markdown",
   "id": "87d7ef35",
   "metadata": {},
   "source": [
    "## Training the model: Lease vs Price"
   ]
  },
  {
   "cell_type": "code",
   "execution_count": null,
   "id": "3214edeb",
   "metadata": {},
   "outputs": [],
   "source": [
    "lm.fit(X_train10_ll,y_train10_price)"
   ]
  },
  {
   "cell_type": "markdown",
   "id": "b43ba2ee",
   "metadata": {},
   "source": [
    "## Model Evaluation "
   ]
  },
  {
   "cell_type": "code",
   "execution_count": null,
   "id": "bbae3dc1",
   "metadata": {},
   "outputs": [],
   "source": [
    "print('Intercept \\t a: ', + lm.intercept_)\n",
    "print('Coefficient \\t b: ', + lm.coef_)"
   ]
  },
  {
   "cell_type": "code",
   "execution_count": null,
   "id": "e3984911",
   "metadata": {},
   "outputs": [],
   "source": [
    "# Formula for the Regression line\n",
    "regline_x = X_train10_ll\n",
    "regline_y = lm.intercept_ + lm.coef_ * X_train10_ll\n",
    "\n",
    "# Plot the Linear Regression line\n",
    "plt.figure(figsize=(16, 8))\n",
    "plt.scatter(X_train10_ll, y_train10_price)\n",
    "plt.plot(regline_x, regline_y, 'r-', linewidth = 3)\n",
    "plt.show()"
   ]
  },
  {
   "cell_type": "markdown",
   "id": "b95eac55",
   "metadata": {},
   "source": [
    "## Predictions from the model"
   ]
  },
  {
   "cell_type": "code",
   "execution_count": null,
   "id": "86ad8b53",
   "metadata": {},
   "outputs": [],
   "source": [
    "predictions = lm.predict(X_test_ll)"
   ]
  },
  {
   "cell_type": "code",
   "execution_count": null,
   "id": "f1c3ca4d",
   "metadata": {},
   "outputs": [],
   "source": [
    "plt.figure(figsize=(16, 8))\n",
    "plt.scatter(X_test_ll,y_test_price)\n",
    "plt.scatter(X_test_ll, predictions, color = \"r\")"
   ]
  },
  {
   "cell_type": "code",
   "execution_count": null,
   "id": "c8a8ceca",
   "metadata": {},
   "outputs": [],
   "source": [
    "print('floor_area_sqm')\n",
    "print('Explained Variance (R^2):', lm.score(X_train10_ll, y_train10_price))\n",
    "print('Mean Squared Error (MSE):', metrics.mean_squared_error(y_test_price, predictions))\n",
    "print('Root Mean Squared Error (RMSE):', np.sqrt(metrics.mean_squared_error(y_test_price, predictions)))"
   ]
  },
  {
   "cell_type": "code",
   "execution_count": null,
   "id": "307b2a54",
   "metadata": {},
   "outputs": [],
   "source": [
    "data = [{'R2': lm.score(X_train10_ll, y_train10_price),\n",
    "        'MSE': metrics.mean_squared_error(y_test_price, predictions),\n",
    "        'RMSE': np.sqrt(metrics.mean_squared_error(y_test_price, predictions))}]\n",
    "df_lr_10_ll = pd.DataFrame(data)\n",
    "df_lr_10_ll['Period'] = '10'"
   ]
  },
  {
   "cell_type": "code",
   "execution_count": null,
   "id": "a9de509c",
   "metadata": {},
   "outputs": [],
   "source": [
    "df_lr_area = pd.concat([df_lr_90_area, df_lr_00_area, df_lr_10_area]).reset_index()"
   ]
  },
  {
   "cell_type": "code",
   "execution_count": null,
   "id": "814a4393",
   "metadata": {},
   "outputs": [],
   "source": [
    "df_lr_ll = pd.concat([df_lr_90_ll, df_lr_00_ll, df_lr_10_ll]).reset_index()"
   ]
  },
  {
   "cell_type": "markdown",
   "id": "d0c93fe9",
   "metadata": {},
   "source": [
    "## Linear Regression Model Comparison"
   ]
  },
  {
   "cell_type": "code",
   "execution_count": null,
   "id": "736ec00b",
   "metadata": {},
   "outputs": [],
   "source": [
    "df_lr_ll"
   ]
  },
  {
   "cell_type": "code",
   "execution_count": null,
   "id": "15b83006",
   "metadata": {},
   "outputs": [],
   "source": [
    "df_lr_area"
   ]
  },
  {
   "cell_type": "markdown",
   "id": "6c2ea52f",
   "metadata": {},
   "source": [
    "# Random Forest"
   ]
  },
  {
   "cell_type": "code",
   "execution_count": null,
   "id": "bc22248f",
   "metadata": {},
   "outputs": [],
   "source": [
    "from sklearn.ensemble import RandomForestRegressor\n",
    "from sklearn.metrics import r2_score, mean_absolute_error\n",
    "from scipy.stats import spearmanr, pearsonr"
   ]
  },
  {
   "cell_type": "code",
   "execution_count": null,
   "id": "cd8672c7",
   "metadata": {},
   "outputs": [],
   "source": [
    "1990s"
   ]
  },
  {
   "cell_type": "code",
   "execution_count": null,
   "id": "ee837def",
   "metadata": {},
   "outputs": [],
   "source": [
    "df_90.info()"
   ]
  },
  {
   "cell_type": "code",
   "execution_count": null,
   "id": "ec13ecc8",
   "metadata": {
    "scrolled": true
   },
   "outputs": [],
   "source": [
    "y_90 = pd.DataFrame(df_90[['resale_price']])\n",
    "X_90 = pd.DataFrame(df_90[['flat_type', 'storey_range', 'flat_model', 'region']])\n",
    "X_90.nunique()"
   ]
  },
  {
   "cell_type": "code",
   "execution_count": null,
   "id": "f74c41c9",
   "metadata": {
    "scrolled": false
   },
   "outputs": [],
   "source": [
    "replace_values = {'1 ROOM':0,'2 ROOM':1, '3 ROOM':2, '4 ROOM':3, '5 ROOM':4, 'EXECUTIVE':5, 'MULTI GENERATION':6}\n",
    "X_90 = X_90.replace({'flat_type': replace_values})\n",
    "X_90= pd.get_dummies(X_90, columns=['storey_range'], prefix=['storey_range'])\n",
    "X_90= pd.get_dummies(X_90, columns=['flat_model'], prefix=['flat_model'])\n",
    "X_90= pd.get_dummies(X_90, columns=['region'], prefix=['region'])"
   ]
  },
  {
   "cell_type": "code",
   "execution_count": null,
   "id": "c36f8815",
   "metadata": {
    "scrolled": false
   },
   "outputs": [],
   "source": [
    "# Validation using out-of-bag method\n",
    "rf = RandomForestRegressor(n_estimators=100,oob_score=True, random_state=0)\n",
    "rf.fit(X_90,np.ravel(y_90))\n",
    "predicted_train = rf.predict(X_90)\n",
    "\n",
    "print(f'Out-of-bag R\\u00b2 score estimate: {rf.oob_score_:>5.3}')"
   ]
  },
  {
   "cell_type": "code",
   "execution_count": null,
   "id": "530d67d5",
   "metadata": {
    "scrolled": false
   },
   "outputs": [],
   "source": [
    "predicted_test = rf.predict(X_90)\n",
    "oob_test_score = r2_score(y_90['resale_price'], predicted_test)\n",
    "spearman = spearmanr(y_90['resale_price'], predicted_test)\n",
    "pearson = pearsonr(y_90['resale_price'], predicted_test)\n",
    "oob_mae = mean_absolute_error(y_90['resale_price'], predicted_test)\n",
    "\n",
    "print(f'Test data R\\u00b2 score: {oob_test_score:>5.3}')\n",
    "print(f'Test data Spearman correlation: {spearman[0]:.3}')\n",
    "print(f'Test data Pearson correlation: {pearson[0]:.3}')\n",
    "print(f'Test data Mean Absolute Error: {round(oob_mae)}')"
   ]
  },
  {
   "cell_type": "code",
   "execution_count": null,
   "id": "239e73ad",
   "metadata": {},
   "outputs": [],
   "source": [
    "from sklearn.model_selection import GridSearchCV\n",
    "\n",
    "# validation by k-fold cross validation with grid search for best hyperparameters\n",
    "# hyperparameter values shown below are the tuned final values\n",
    "param_grid = {\n",
    "    'max_features': ['auto'], # max number of features considered for splitting a node\n",
    "    'max_depth': [20], # max number of levels in each decision tree\n",
    "    'min_samples_split': [15], # min number of data points placed in a node before the node is split\n",
    "    'min_samples_leaf': [2]} # min number of data points allowed in a leaf node\n",
    "rfr =GridSearchCV(RandomForestRegressor(n_estimators = 500, n_jobs=-1, random_state=0),\n",
    "                        param_grid, cv=10, scoring='r2', return_train_score=True)\n",
    "rfr.fit(X_90,np.ravel(y_90))\n",
    "print(\"Best parameters set found on Cross Validation:\\n\\n\", rfr.best_params_)\n",
    "print(\"\\nCross Validation R\\u00b2 score:\\n\\n\", rfr.best_score_.round(3))"
   ]
  },
  {
   "cell_type": "code",
   "execution_count": null,
   "id": "e225af46",
   "metadata": {},
   "outputs": [],
   "source": [
    "cv_predicted_test = rfr.predict(X_90)\n",
    "cv_test_score = r2_score(y_90['resale_price'], cv_predicted_test)\n",
    "spearman = spearmanr(y_90['resale_price'], cv_predicted_test)\n",
    "pearson = pearsonr(y_90['resale_price'], cv_predicted_test)\n",
    "cv_mae = mean_absolute_error(y_90['resale_price'], cv_predicted_test)\n",
    "print(f'Test data R\\u00b2 score: {cv_test_score:>5.3}')\n",
    "print(f'Test data Spearman correlation: {spearman[0]:.3}')\n",
    "print(f'Test data Pearson correlation: {pearson[0]:.3}')\n",
    "print(f'Test data Mean Absolute Error: {round(cv_mae)}')"
   ]
  },
  {
   "cell_type": "code",
   "execution_count": null,
   "id": "5696c8ba",
   "metadata": {},
   "outputs": [],
   "source": [
    "fig = plt.figure(figsize=(13,4))\n",
    "\n",
    "ax1 = plt.subplot(121)\n",
    "ax1 = sns.scatterplot(x=y_90['resale_price'], y=predicted_test, edgecolors='w', alpha=0.9, s=8)\n",
    "ax1.set_xlabel('Observed'), ax1.set_xticklabels(['{:,.0f}'.format(x) + 'K' for x in ax1.get_xticks()/1000])\n",
    "ax1.set_ylabel('Predicted'), ax1.set_yticklabels(['{:,.0f}'.format(x) + 'K' for x in ax1.get_yticks()/1000])\n",
    "ax1.annotate('Test R\\u00b2: ' + str(round(oob_test_score,3)) + '\\nTest MAE: ' + str(round(oob_mae)), xy=(0, 1), xytext=(25, -35),\n",
    "    xycoords='axes fraction', textcoords='offset points', fontsize=12)\n",
    "ax1.set_title('Tuned Using Out-Of-Bag')\n",
    "\n",
    "ax2 = plt.subplot(122)\n",
    "ax2 = sns.scatterplot(x=y_90['resale_price'], y=cv_predicted_test, edgecolors='w', alpha=0.9, s=8)\n",
    "ax2.set_xlabel('Observed'), ax2.set_xticklabels(['{:,.0f}'.format(x) + 'K' for x in ax2.get_xticks()/1000])\n",
    "ax2.set_ylabel('Predicted'), ax2.set_yticklabels(['{:,.0f}'.format(x) + 'K' for x in ax2.get_yticks()/1000])\n",
    "ax2.annotate('Test R\\u00b2: ' + str(round(cv_test_score,3)) + '\\nTest MAE: ' + str(round(cv_mae)), xy=(0, 1), xytext=(25, -35),\n",
    "    xycoords='axes fraction', textcoords='offset points', fontsize=12)\n",
    "ax2.set_title('Tuned Using Cross Validation')\n",
    "plt.tight_layout(pad=0, rect=[0, 0, 0.9, 0.9])\n",
    "plt.show()"
   ]
  },
  {
   "cell_type": "code",
   "execution_count": null,
   "id": "4a97d60a",
   "metadata": {
    "scrolled": true
   },
   "outputs": [],
   "source": [
    "fig = plt.figure(figsize=(20,5))\n",
    "\n",
    "ax1 = plt.subplot(121)\n",
    "feat_imp = pd.DataFrame({'Features': X_90.columns, 'Feature Importance': rf.feature_importances_}).sort_values('Feature Importance', ascending=False)\n",
    "sns.barplot(y='Features', x='Feature Importance', data=feat_imp)\n",
    "#plt.xticks(rotation=45, ha='right')\n",
    "ax1.set_title('OOB Feature Importance', size=10)\n",
    "\n",
    "ax2 = plt.subplot(122)\n",
    "feat_imp = pd.DataFrame({'Features': X_90.columns, 'Feature Importance': rfr.best_estimator_.feature_importances_}).sort_values('Feature Importance', ascending=False)\n",
    "sns.barplot(y='Features', x='Feature Importance', data=feat_imp)\n",
    "ax2.set_title('CV Feature Importance', size=10)"
   ]
  },
  {
   "cell_type": "code",
   "execution_count": null,
   "id": "3079a64b",
   "metadata": {},
   "outputs": [],
   "source": [
    "2000s"
   ]
  },
  {
   "cell_type": "code",
   "execution_count": null,
   "id": "ea6d9fa9",
   "metadata": {},
   "outputs": [],
   "source": [
    "df_00.info()"
   ]
  },
  {
   "cell_type": "code",
   "execution_count": null,
   "id": "a67bb74d",
   "metadata": {},
   "outputs": [],
   "source": [
    "y_00 = pd.DataFrame(df_00[['resale_price']])\n",
    "X_00 = pd.DataFrame(df_00[['flat_type', 'storey_range', 'flat_model', 'region']])\n",
    "X_00.nunique()"
   ]
  },
  {
   "cell_type": "code",
   "execution_count": null,
   "id": "0cb7dc33",
   "metadata": {},
   "outputs": [],
   "source": [
    "X_00 = X_00.replace({'flat_type': replace_values})\n",
    "X_00= pd.get_dummies(X_00, columns=['storey_range'], prefix=['storey_range'])\n",
    "X_00= pd.get_dummies(X_00, columns=['flat_model'], prefix=['flat_model'])\n",
    "X_00= pd.get_dummies(X_00, columns=['region'], prefix=['region'])"
   ]
  },
  {
   "cell_type": "code",
   "execution_count": null,
   "id": "6b60958a",
   "metadata": {},
   "outputs": [],
   "source": [
    "rf = RandomForestRegressor(n_estimators=100,oob_score=True, random_state=0)\n",
    "rf.fit(X_00,np.ravel(y_00))\n",
    "predicted_train = rf.predict(X_00)\n",
    "\n",
    "print(f'Out-of-bag R\\u00b2 score estimate: {rf.oob_score_:>5.3}')"
   ]
  },
  {
   "cell_type": "code",
   "execution_count": null,
   "id": "c33f5984",
   "metadata": {},
   "outputs": [],
   "source": [
    "predicted_test = rf.predict(X_00)\n",
    "oob_test_score = r2_score(y_00['resale_price'], predicted_test)\n",
    "spearman = spearmanr(y_00['resale_price'], predicted_test)\n",
    "pearson = pearsonr(y_00['resale_price'], predicted_test)\n",
    "oob_mae = mean_absolute_error(y_00['resale_price'], predicted_test)\n",
    "\n",
    "print(f'Test data R\\u00b2 score: {oob_test_score:>5.3}')\n",
    "print(f'Test data Spearman correlation: {spearman[0]:.3}')\n",
    "print(f'Test data Pearson correlation: {pearson[0]:.3}')\n",
    "print(f'Test data Mean Absolute Error: {round(oob_mae)}')"
   ]
  },
  {
   "cell_type": "code",
   "execution_count": null,
   "id": "ffe761a5",
   "metadata": {},
   "outputs": [],
   "source": [
    "from sklearn.model_selection import GridSearchCV\n",
    "\n",
    "# validation by k-fold cross validation with grid search for best hyperparameters\n",
    "# hyperparameter values shown below are the tuned final values\n",
    "param_grid = {\n",
    "    'max_features': ['auto'], # max number of features considered for splitting a node\n",
    "    'max_depth': [20], # max number of levels in each decision tree\n",
    "    'min_samples_split': [15], # min number of data points placed in a node before the node is split\n",
    "    'min_samples_leaf': [2]} # min number of data points allowed in a leaf node\n",
    "rfr =GridSearchCV(RandomForestRegressor(n_estimators = 500, n_jobs=-1, random_state=0),\n",
    "                        param_grid, cv=10, scoring='r2', return_train_score=True)\n",
    "rfr.fit(X_00,np.ravel(y_00))\n",
    "print(\"Best parameters set found on Cross Validation:\\n\\n\", rfr.best_params_)\n",
    "print(\"\\nCross Validation R\\u00b2 score:\\n\\n\", rfr.best_score_.round(3))"
   ]
  },
  {
   "cell_type": "code",
   "execution_count": null,
   "id": "cd79f813",
   "metadata": {},
   "outputs": [],
   "source": [
    "cv_predicted_test = rfr.predict(X_00)\n",
    "cv_test_score = r2_score(y_00['resale_price'], cv_predicted_test)\n",
    "spearman = spearmanr(y_00['resale_price'], cv_predicted_test)\n",
    "pearson = pearsonr(y_00['resale_price'], cv_predicted_test)\n",
    "cv_mae = mean_absolute_error(y_00['resale_price'], cv_predicted_test)\n",
    "print(f'Test data R\\u00b2 score: {cv_test_score:>5.3}')\n",
    "print(f'Test data Spearman correlation: {spearman[0]:.3}')\n",
    "print(f'Test data Pearson correlation: {pearson[0]:.3}')\n",
    "print(f'Test data Mean Absolute Error: {round(cv_mae)}')"
   ]
  },
  {
   "cell_type": "code",
   "execution_count": null,
   "id": "6e665fec",
   "metadata": {},
   "outputs": [],
   "source": [
    "fig = plt.figure(figsize=(13,4))\n",
    "\n",
    "ax1 = plt.subplot(121)\n",
    "ax1 = sns.scatterplot(x=y_00['resale_price'], y=predicted_test, edgecolors='w', alpha=0.9, s=8)\n",
    "ax1.set_xlabel('Observed'), ax1.set_xticklabels(['{:,.0f}'.format(x) + 'K' for x in ax1.get_xticks()/1000])\n",
    "ax1.set_ylabel('Predicted'), ax1.set_yticklabels(['{:,.0f}'.format(x) + 'K' for x in ax1.get_yticks()/1000])\n",
    "ax1.annotate('Test R\\u00b2: ' + str(round(oob_test_score,3)) + '\\nTest MAE: ' + str(round(oob_mae)), xy=(0, 1), xytext=(25, -35),\n",
    "    xycoords='axes fraction', textcoords='offset points', fontsize=12)\n",
    "ax1.set_title('Tuned Using Out-Of-Bag')\n",
    "\n",
    "ax2 = plt.subplot(122)\n",
    "ax2 = sns.scatterplot(x=y_00['resale_price'], y=cv_predicted_test, edgecolors='w', alpha=0.9, s=8)\n",
    "ax2.set_xlabel('Observed'), ax2.set_xticklabels(['{:,.0f}'.format(x) + 'K' for x in ax2.get_xticks()/1000])\n",
    "ax2.set_ylabel('Predicted'), ax2.set_yticklabels(['{:,.0f}'.format(x) + 'K' for x in ax2.get_yticks()/1000])\n",
    "ax2.annotate('Test R\\u00b2: ' + str(round(cv_test_score,3)) + '\\nTest MAE: ' + str(round(cv_mae)), xy=(0, 1), xytext=(25, -35),\n",
    "    xycoords='axes fraction', textcoords='offset points', fontsize=12)\n",
    "ax2.set_title('Tuned Using Cross Validation')\n",
    "plt.tight_layout(pad=0, rect=[0, 0, 0.9, 0.9])\n",
    "plt.show()"
   ]
  },
  {
   "cell_type": "code",
   "execution_count": null,
   "id": "8b44bdcf",
   "metadata": {},
   "outputs": [],
   "source": [
    "fig = plt.figure(figsize=(20,5))\n",
    "\n",
    "ax1 = plt.subplot(121)\n",
    "feat_imp = pd.DataFrame({'Features': X_00.columns, 'Feature Importance': rf.feature_importances_}).sort_values('Feature Importance', ascending=False)\n",
    "sns.barplot(y='Features', x='Feature Importance', data=feat_imp)\n",
    "#plt.xticks(rotation=45, ha='right')\n",
    "ax1.set_title('OOB Feature Importance', size=10)\n",
    "\n",
    "ax2 = plt.subplot(122)\n",
    "feat_imp = pd.DataFrame({'Features': X_00.columns, 'Feature Importance': rfr.best_estimator_.feature_importances_}).sort_values('Feature Importance', ascending=False)\n",
    "sns.barplot(y='Features', x='Feature Importance', data=feat_imp)\n",
    "ax2.set_title('CV Feature Importance', size=10)"
   ]
  },
  {
   "cell_type": "code",
   "execution_count": null,
   "id": "de30ba2a",
   "metadata": {},
   "outputs": [],
   "source": [
    "2010s"
   ]
  },
  {
   "cell_type": "code",
   "execution_count": null,
   "id": "6ca9fa9f",
   "metadata": {},
   "outputs": [],
   "source": [
    "df_10.info()"
   ]
  },
  {
   "cell_type": "code",
   "execution_count": null,
   "id": "b459fecd",
   "metadata": {},
   "outputs": [],
   "source": [
    "y_10 = pd.DataFrame(df_10[['resale_price']])\n",
    "X_10 = pd.DataFrame(df_10[['flat_type', 'storey_range', 'flat_model', 'region']])\n",
    "X_10.nunique()"
   ]
  },
  {
   "cell_type": "code",
   "execution_count": null,
   "id": "3e1f0728",
   "metadata": {},
   "outputs": [],
   "source": [
    "X_10 = X_10.replace({'flat_type': replace_values})\n",
    "X_10= pd.get_dummies(X_10, columns=['storey_range'], prefix=['storey_range'])\n",
    "X_10= pd.get_dummies(X_10, columns=['flat_model'], prefix=['flat_model'])\n",
    "X_10= pd.get_dummies(X_10, columns=['region'], prefix=['region'])"
   ]
  },
  {
   "cell_type": "code",
   "execution_count": null,
   "id": "3911a3a3",
   "metadata": {},
   "outputs": [],
   "source": [
    "rf = RandomForestRegressor(n_estimators=100,oob_score=True, random_state=0)\n",
    "rf.fit(X_10,np.ravel(y_10))\n",
    "predicted_train = rf.predict(X_10)\n",
    "\n",
    "print(f'Out-of-bag R\\u00b2 score estimate: {rf.oob_score_:>5.3}')"
   ]
  },
  {
   "cell_type": "code",
   "execution_count": null,
   "id": "a66192ac",
   "metadata": {},
   "outputs": [],
   "source": [
    "predicted_test = rf.predict(X_10)\n",
    "oob_test_score = r2_score(y_10['resale_price'], predicted_test)\n",
    "spearman = spearmanr(y_10['resale_price'], predicted_test)\n",
    "pearson = pearsonr(y_10['resale_price'], predicted_test)\n",
    "oob_mae = mean_absolute_error(y_10['resale_price'], predicted_test)\n",
    "\n",
    "print(f'Test data R\\u00b2 score: {oob_test_score:>5.3}')\n",
    "print(f'Test data Spearman correlation: {spearman[0]:.3}')\n",
    "print(f'Test data Pearson correlation: {pearson[0]:.3}')\n",
    "print(f'Test data Mean Absolute Error: {round(oob_mae)}')"
   ]
  },
  {
   "cell_type": "code",
   "execution_count": null,
   "id": "3966da1c",
   "metadata": {},
   "outputs": [],
   "source": [
    "from sklearn.model_selection import GridSearchCV\n",
    "\n",
    "# validation by k-fold cross validation with grid search for best hyperparameters\n",
    "# hyperparameter values shown below are the tuned final values\n",
    "param_grid = {\n",
    "    'max_features': ['auto'], # max number of features considered for splitting a node\n",
    "    'max_depth': [20], # max number of levels in each decision tree\n",
    "    'min_samples_split': [15], # min number of data points placed in a node before the node is split\n",
    "    'min_samples_leaf': [2]} # min number of data points allowed in a leaf node\n",
    "rfr =GridSearchCV(RandomForestRegressor(n_estimators = 500, n_jobs=-1, random_state=0),\n",
    "                        param_grid, cv=10, scoring='r2', return_train_score=True)\n",
    "rfr.fit(X_10,np.ravel(y_10))\n",
    "print(\"Best parameters set found on Cross Validation:\\n\\n\", rfr.best_params_)\n",
    "print(\"\\nCross Validation R\\u00b2 score:\\n\\n\", rfr.best_score_.round(3))"
   ]
  },
  {
   "cell_type": "code",
   "execution_count": null,
   "id": "f272f246",
   "metadata": {},
   "outputs": [],
   "source": [
    "from sklearn.model_selection import GridSearchCV\n",
    "\n",
    "# validation by k-fold cross validation with grid search for best hyperparameters\n",
    "# hyperparameter values shown below are the tuned final values\n",
    "param_grid = {\n",
    "    'max_features': ['auto'], # max number of features considered for splitting a node\n",
    "    'max_depth': [20], # max number of levels in each decision tree\n",
    "    'min_samples_split': [15], # min number of data points placed in a node before the node is split\n",
    "    'min_samples_leaf': [2]} # min number of data points allowed in a leaf node\n",
    "rfr =GridSearchCV(RandomForestRegressor(n_estimators = 500, n_jobs=-1, random_state=0),\n",
    "                        param_grid, cv=10, scoring='r2', return_train_score=True)\n",
    "rfr.fit(X_10,np.ravel(y_10))\n",
    "print(\"Best parameters set found on Cross Validation:\\n\\n\", rfr.best_params_)\n",
    "print(\"\\nCross Validation R\\u00b2 score:\\n\\n\", rfr.best_score_.round(3))"
   ]
  },
  {
   "cell_type": "code",
   "execution_count": null,
   "id": "5c74daee",
   "metadata": {},
   "outputs": [],
   "source": [
    "fig = plt.figure(figsize=(13,4))\n",
    "\n",
    "ax1 = plt.subplot(121)\n",
    "ax1 = sns.scatterplot(x=y_10['resale_price'], y=predicted_test, edgecolors='w', alpha=0.9, s=8)\n",
    "ax1.set_xlabel('Observed'), ax1.set_xticklabels(['{:,.0f}'.format(x) + 'K' for x in ax1.get_xticks()/1000])\n",
    "ax1.set_ylabel('Predicted'), ax1.set_yticklabels(['{:,.0f}'.format(x) + 'K' for x in ax1.get_yticks()/1000])\n",
    "ax1.annotate('Test R\\u00b2: ' + str(round(oob_test_score,3)) + '\\nTest MAE: ' + str(round(oob_mae)), xy=(0, 1), xytext=(25, -35),\n",
    "    xycoords='axes fraction', textcoords='offset points', fontsize=12)\n",
    "ax1.set_title('Tuned Using Out-Of-Bag')\n",
    "\n",
    "ax2 = plt.subplot(122)\n",
    "ax2 = sns.scatterplot(x=y_10['resale_price'], y=cv_predicted_test, edgecolors='w', alpha=0.9, s=8)\n",
    "ax2.set_xlabel('Observed'), ax2.set_xticklabels(['{:,.0f}'.format(x) + 'K' for x in ax2.get_xticks()/1000])\n",
    "ax2.set_ylabel('Predicted'), ax2.set_yticklabels(['{:,.0f}'.format(x) + 'K' for x in ax2.get_yticks()/1000])\n",
    "ax2.annotate('Test R\\u00b2: ' + str(round(cv_test_score,3)) + '\\nTest MAE: ' + str(round(cv_mae)), xy=(0, 1), xytext=(25, -35),\n",
    "    xycoords='axes fraction', textcoords='offset points', fontsize=12)\n",
    "ax2.set_title('Tuned Using Cross Validation')\n",
    "plt.tight_layout(pad=0, rect=[0, 0, 0.9, 0.9])\n",
    "plt.show()"
   ]
  },
  {
   "cell_type": "code",
   "execution_count": null,
   "id": "abc34a81",
   "metadata": {},
   "outputs": [],
   "source": [
    "fig = plt.figure(figsize=(20,5))\n",
    "\n",
    "ax1 = plt.subplot(121)\n",
    "feat_imp = pd.DataFrame({'Features': X_10.columns, 'Feature Importance': rf.feature_importances_}).sort_values('Feature Importance', ascending=False)\n",
    "sns.barplot(y='Features', x='Feature Importance', data=feat_imp)\n",
    "#plt.xticks(rotation=45, ha='right')\n",
    "ax1.set_title('OOB Feature Importance', size=10)\n",
    "\n",
    "ax2 = plt.subplot(122)\n",
    "feat_imp = pd.DataFrame({'Features': X_10.columns, 'Feature Importance': rfr.best_estimator_.feature_importances_}).sort_values('Feature Importance', ascending=False)\n",
    "sns.barplot(y='Features', x='Feature Importance', data=feat_imp)\n",
    "ax2.set_title('CV Feature Importance', size=10)"
   ]
  },
  {
   "cell_type": "code",
   "execution_count": null,
   "id": "1aca7626",
   "metadata": {},
   "outputs": [],
   "source": [
    "2020s"
   ]
  },
  {
   "cell_type": "code",
   "execution_count": null,
   "id": "8ae7dcf2",
   "metadata": {},
   "outputs": [],
   "source": [
    "df_20.info()"
   ]
  },
  {
   "cell_type": "code",
   "execution_count": null,
   "id": "01ef95ba",
   "metadata": {},
   "outputs": [],
   "source": [
    "y_20 = pd.DataFrame(df_20[['resale_price']])\n",
    "X_20 = pd.DataFrame(df_20[['flat_type', 'storey_range', 'flat_model', 'region']])\n",
    "X_20.nunique()"
   ]
  },
  {
   "cell_type": "code",
   "execution_count": null,
   "id": "9678827c",
   "metadata": {},
   "outputs": [],
   "source": [
    "X_20 = X_20.replace({'flat_type': replace_values})\n",
    "X_20= pd.get_dummies(X_20, columns=['storey_range'], prefix=['storey_range'])\n",
    "X_20= pd.get_dummies(X_20, columns=['flat_model'], prefix=['flat_model'])\n",
    "X_20= pd.get_dummies(X_20, columns=['region'], prefix=['region'])"
   ]
  },
  {
   "cell_type": "code",
   "execution_count": null,
   "id": "fe5481d5",
   "metadata": {},
   "outputs": [],
   "source": [
    "rf = RandomForestRegressor(n_estimators=100,oob_score=True, random_state=0)\n",
    "rf.fit(X_20,np.ravel(y_20))\n",
    "predicted_train = rf.predict(X_20)\n",
    "\n",
    "print(f'Out-of-bag R\\u00b2 score estimate: {rf.oob_score_:>5.3}')"
   ]
  },
  {
   "cell_type": "code",
   "execution_count": null,
   "id": "3635b1c5",
   "metadata": {},
   "outputs": [],
   "source": [
    "predicted_test = rf.predict(X_20)\n",
    "oob_test_score = r2_score(y_20['resale_price'], predicted_test)\n",
    "spearman = spearmanr(y_20['resale_price'], predicted_test)\n",
    "pearson = pearsonr(y_20['resale_price'], predicted_test)\n",
    "oob_mae = mean_absolute_error(y_20['resale_price'], predicted_test)\n",
    "\n",
    "print(f'Test data R\\u00b2 score: {oob_test_score:>5.3}')\n",
    "print(f'Test data Spearman correlation: {spearman[0]:.3}')\n",
    "print(f'Test data Pearson correlation: {pearson[0]:.3}')\n",
    "print(f'Test data Mean Absolute Error: {round(oob_mae)}')"
   ]
  },
  {
   "cell_type": "code",
   "execution_count": null,
   "id": "51a2b08d",
   "metadata": {},
   "outputs": [],
   "source": [
    "from sklearn.model_selection import GridSearchCV\n",
    "\n",
    "# validation by k-fold cross validation with grid search for best hyperparameters\n",
    "# hyperparameter values shown below are the tuned final values\n",
    "param_grid = {\n",
    "    'max_features': ['auto'], # max number of features considered for splitting a node\n",
    "    'max_depth': [20], # max number of levels in each decision tree\n",
    "    'min_samples_split': [15], # min number of data points placed in a node before the node is split\n",
    "    'min_samples_leaf': [2]} # min number of data points allowed in a leaf node\n",
    "rfr =GridSearchCV(RandomForestRegressor(n_estimators = 500, n_jobs=-1, random_state=0),\n",
    "                        param_grid, cv=10, scoring='r2', return_train_score=True)\n",
    "rfr.fit(X_20,np.ravel(y_20))\n",
    "print(\"Best parameters set found on Cross Validation:\\n\\n\", rfr.best_params_)\n",
    "print(\"\\nCross Validation R\\u00b2 score:\\n\\n\", rfr.best_score_.round(3))"
   ]
  },
  {
   "cell_type": "code",
   "execution_count": null,
   "id": "eedc4263",
   "metadata": {},
   "outputs": [],
   "source": [
    "from sklearn.model_selection import GridSearchCV\n",
    "\n",
    "# validation by k-fold cross validation with grid search for best hyperparameters\n",
    "# hyperparameter values shown below are the tuned final values\n",
    "param_grid = {\n",
    "    'max_features': ['auto'], # max number of features considered for splitting a node\n",
    "    'max_depth': [20], # max number of levels in each decision tree\n",
    "    'min_samples_split': [15], # min number of data points placed in a node before the node is split\n",
    "    'min_samples_leaf': [2]} # min number of data points allowed in a leaf node\n",
    "rfr =GridSearchCV(RandomForestRegressor(n_estimators = 500, n_jobs=-1, random_state=0),\n",
    "                        param_grid, cv=10, scoring='r2', return_train_score=True)\n",
    "rfr.fit(X_20,np.ravel(y_20))\n",
    "print(\"Best parameters set found on Cross Validation:\\n\\n\", rfr.best_params_)\n",
    "print(\"\\nCross Validation R\\u00b2 score:\\n\\n\", rfr.best_score_.round(3))"
   ]
  },
  {
   "cell_type": "code",
   "execution_count": null,
   "id": "29674b2f",
   "metadata": {},
   "outputs": [],
   "source": [
    "fig = plt.figure(figsize=(13,4))\n",
    "\n",
    "ax1 = plt.subplot(121)\n",
    "ax1 = sns.scatterplot(x=y_20['resale_price'], y=predicted_test, edgecolors='w', alpha=0.9, s=8)\n",
    "ax1.set_xlabel('Observed'), ax1.set_xticklabels(['{:,.0f}'.format(x) + 'K' for x in ax1.get_xticks()/1000])\n",
    "ax1.set_ylabel('Predicted'), ax1.set_yticklabels(['{:,.0f}'.format(x) + 'K' for x in ax1.get_yticks()/1000])\n",
    "ax1.annotate('Test R\\u00b2: ' + str(round(oob_test_score,3)) + '\\nTest MAE: ' + str(round(oob_mae)), xy=(0, 1), xytext=(25, -35),\n",
    "    xycoords='axes fraction', textcoords='offset points', fontsize=12)\n",
    "ax1.set_title('Tuned Using Out-Of-Bag')\n",
    "\n",
    "ax2 = plt.subplot(122)\n",
    "ax2 = sns.scatterplot(x=y_20['resale_price'], y=cv_predicted_test, edgecolors='w', alpha=0.9, s=8)\n",
    "ax2.set_xlabel('Observed'), ax2.set_xticklabels(['{:,.0f}'.format(x) + 'K' for x in ax2.get_xticks()/1000])\n",
    "ax2.set_ylabel('Predicted'), ax2.set_yticklabels(['{:,.0f}'.format(x) + 'K' for x in ax2.get_yticks()/1000])\n",
    "ax2.annotate('Test R\\u00b2: ' + str(round(cv_test_score,3)) + '\\nTest MAE: ' + str(round(cv_mae)), xy=(0, 1), xytext=(25, -35),\n",
    "    xycoords='axes fraction', textcoords='offset points', fontsize=12)\n",
    "ax2.set_title('Tuned Using Cross Validation')\n",
    "plt.tight_layout(pad=0, rect=[0, 0, 0.9, 0.9])\n",
    "plt.show()"
   ]
  },
  {
   "cell_type": "code",
   "execution_count": null,
   "id": "a940fae8",
   "metadata": {},
   "outputs": [],
   "source": [
    "fig = plt.figure(figsize=(20,5))\n",
    "\n",
    "ax1 = plt.subplot(121)\n",
    "feat_imp = pd.DataFrame({'Features': X_20.columns, 'Feature Importance': rf.feature_importances_}).sort_values('Feature Importance', ascending=False)\n",
    "sns.barplot(y='Features', x='Feature Importance', data=feat_imp)\n",
    "#plt.xticks(rotation=45, ha='right')\n",
    "ax1.set_title('OOB Feature Importance', size=10)\n",
    "\n",
    "ax2 = plt.subplot(122)\n",
    "feat_imp = pd.DataFrame({'Features': X_20.columns, 'Feature Importance': rfr.best_estimator_.feature_importances_}).sort_values('Feature Importance', ascending=False)\n",
    "sns.barplot(y='Features', x='Feature Importance', data=feat_imp)\n",
    "ax2.set_title('CV Feature Importance', size=10)"
   ]
  },
  {
   "cell_type": "code",
   "execution_count": null,
   "id": "5f73ca4c",
   "metadata": {},
   "outputs": [],
   "source": []
  }
 ],
 "metadata": {
  "kernelspec": {
   "display_name": "Python 3 (ipykernel)",
   "language": "python",
   "name": "python3"
  },
  "language_info": {
   "codemirror_mode": {
    "name": "ipython",
    "version": 3
   },
   "file_extension": ".py",
   "mimetype": "text/x-python",
   "name": "python",
   "nbconvert_exporter": "python",
   "pygments_lexer": "ipython3",
   "version": "3.9.7"
  }
 },
 "nbformat": 4,
 "nbformat_minor": 5
}
