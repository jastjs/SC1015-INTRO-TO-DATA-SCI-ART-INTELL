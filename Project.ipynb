{
 "cells": [
  {
   "cell_type": "markdown",
   "metadata": {},
   "source": [
    "## Basic Libraries"
   ]
  },
  {
   "cell_type": "code",
   "execution_count": null,
   "metadata": {},
   "outputs": [],
   "source": [
    "import numpy as np\n",
    "import pandas as pd\n",
    "import seaborn as sns\n",
    "import matplotlib.pyplot as plt\n",
    "sns.set() # set the default Seaborn style for graphics"
   ]
  },
  {
   "cell_type": "markdown",
   "metadata": {},
   "source": [
    "## Plotly Imports"
   ]
  },
  {
   "cell_type": "code",
   "execution_count": null,
   "metadata": {},
   "outputs": [],
   "source": [
    "import json\n",
    "import plotly.express as px"
   ]
  },
  {
   "cell_type": "markdown",
   "metadata": {},
   "source": [
    "## Import the Dataset"
   ]
  },
  {
   "cell_type": "markdown",
   "metadata": {},
   "source": [
    "Note: resale-flat-prices-based-on-approval-date-2000-feb-2012 is being split into two due to exceeding the size limit for Github.\n",
    "- resale-flat-prices-based-on-approval-date-2000-feb-2005.csv\n",
    "- resale-flat-prices-based-on-approval-date-2006-2012.csv"
   ]
  },
  {
   "cell_type": "code",
   "execution_count": null,
   "metadata": {},
   "outputs": [],
   "source": [
    "df_1990 = pd.read_csv('Resale Flat Prices/resale-flat-prices-based-on-approval-date-1990-1999.csv')\n",
    "df_2000 = pd.read_csv('Resale Flat Prices/resale-flat-prices-based-on-approval-date-2000-feb-2005.csv')\n",
    "df_2006 = pd.read_csv('Resale Flat Prices/resale-flat-prices-based-on-approval-date-2006-2012.csv')\n",
    "df_2012 = pd.read_csv('Resale Flat Prices/resale-flat-prices-based-on-registration-date-from-mar-2012-to-dec-2014.csv')\n",
    "df_2015 = pd.read_csv('Resale Flat Prices/resale-flat-prices-based-on-registration-date-from-jan-2015-to-dec-2016.csv')\n",
    "df_2017 = pd.read_csv('Resale Flat Prices/resale-flat-prices-based-on-registration-date-from-jan-2017-onwards.csv')"
   ]
  },
  {
   "cell_type": "code",
   "execution_count": null,
   "metadata": {},
   "outputs": [],
   "source": [
    "df_main = pd.concat([df_1990, df_2000, df_2006, df_2012, df_2015, df_2017])\n",
    "df_main = df_main.reset_index(drop=True)"
   ]
  },
  {
   "cell_type": "markdown",
   "metadata": {},
   "source": [
    "## Check out the Data"
   ]
  },
  {
   "cell_type": "code",
   "execution_count": null,
   "metadata": {},
   "outputs": [],
   "source": [
    "df_main.head()"
   ]
  },
  {
   "cell_type": "code",
   "execution_count": null,
   "metadata": {},
   "outputs": [],
   "source": [
    "df_main.info()"
   ]
  },
  {
   "cell_type": "code",
   "execution_count": null,
   "metadata": {
    "scrolled": true
   },
   "outputs": [],
   "source": [
    "df_main.month.unique()"
   ]
  },
  {
   "cell_type": "code",
   "execution_count": null,
   "metadata": {},
   "outputs": [],
   "source": [
    "df_main.town.unique()"
   ]
  },
  {
   "cell_type": "code",
   "execution_count": null,
   "metadata": {},
   "outputs": [],
   "source": [
    "df_main.flat_type.unique()"
   ]
  },
  {
   "cell_type": "code",
   "execution_count": null,
   "metadata": {},
   "outputs": [],
   "source": [
    "df_main.storey_range.unique()"
   ]
  },
  {
   "cell_type": "code",
   "execution_count": null,
   "metadata": {},
   "outputs": [],
   "source": [
    "df_main.flat_model.unique()"
   ]
  },
  {
   "cell_type": "code",
   "execution_count": null,
   "metadata": {},
   "outputs": [],
   "source": [
    "df_main.remaining_lease.unique()"
   ]
  },
  {
   "cell_type": "markdown",
   "metadata": {},
   "source": [
    "# Data Cleaning"
   ]
  },
  {
   "cell_type": "code",
   "execution_count": null,
   "metadata": {},
   "outputs": [],
   "source": [
    "df_main"
   ]
  },
  {
   "cell_type": "code",
   "execution_count": null,
   "metadata": {},
   "outputs": [],
   "source": [
    "# Region \n",
    "\n",
    "df_main['town'] = df_main['town'].replace(['ANG MO KIO'],'NORTH-EAST REGION')\n",
    "df_main['town'] = df_main['town'].replace(['BEDOK'],'EAST REGION')\n",
    "df_main['town'] = df_main['town'].replace(['BISHAN'],'CENTRAL REGION')\n",
    "df_main['town'] = df_main['town'].replace(['BUKIT BATOK'],'WEST REGION')\n",
    "df_main['town'] = df_main['town'].replace(['BUKIT MERAH'],'CENTRAL REGION')\n",
    "df_main['town'] = df_main['town'].replace(['BUKIT TIMAH'],'CENTRAL REGION')\n",
    "df_main['town'] = df_main['town'].replace(['CENTRAL AREA'],'CENTRAL REGION')\n",
    "df_main['town'] = df_main['town'].replace(['CHOA CHU KANG'],'WEST REGION')\n",
    "df_main['town'] = df_main['town'].replace(['CLEMENTI'],'WEST REGION')\n",
    "df_main['town'] = df_main['town'].replace(['GEYLANG'],'CENTRAL REGION')\n",
    "df_main['town'] = df_main['town'].replace(['HOUGANG'],'NORTH-EAST REGION')\n",
    "df_main['town'] = df_main['town'].replace(['JURONG EAST'],'WEST REGION')\n",
    "df_main['town'] = df_main['town'].replace(['JURONG WEST'],'WEST REGION')\n",
    "df_main['town'] = df_main['town'].replace(['KALLANG/WHAMPOA'],'CENTRAL REGION')\n",
    "df_main['town'] = df_main['town'].replace(['MARINE PARADE'],'CENTRAL REGION')\n",
    "df_main['town'] = df_main['town'].replace(['QUEENSTOWN'],'CENTRAL REGION')\n",
    "df_main['town'] = df_main['town'].replace(['SENGKANG'],'NORTH-EAST REGION')\n",
    "df_main['town'] = df_main['town'].replace(['SERANGOON'],'NORTH-EAST REGION')\n",
    "df_main['town'] = df_main['town'].replace(['TAMPINES'],'EAST REGION')\n",
    "df_main['town'] = df_main['town'].replace(['TOA PAYOH'],'CENTRAL REGION')\n",
    "df_main['town'] = df_main['town'].replace(['WOODLANDS'],'NORTH REGION')\n",
    "df_main['town'] = df_main['town'].replace(['YISHUN'],'NORTH REGION')\n",
    "df_main['town'] = df_main['town'].replace(['LIM CHU KANG'],'NORTH REGION')\n",
    "df_main['town'] = df_main['town'].replace(['SEMBAWANG'],'NORTH REGION')\n",
    "df_main['town'] = df_main['town'].replace(['BUKIT PANJANG'],'WEST REGION')\n",
    "df_main['town'] = df_main['town'].replace(['PASIR RIS'],'EAST REGION')\n",
    "df_main['town'] = df_main['town'].replace(['PUNGGOL'],'NORTH-EAST REGION')"
   ]
  },
  {
   "cell_type": "code",
   "execution_count": null,
   "metadata": {},
   "outputs": [],
   "source": [
    "# Storey Range\n",
    "\n",
    "df_main['storey_range'] = df_main['storey_range'].replace(['10 TO 12'],'01 TO 15')\n",
    "df_main['storey_range'] = df_main['storey_range'].replace(['04 TO 06'],'01 TO 15')\n",
    "df_main['storey_range'] = df_main['storey_range'].replace(['07 TO 09'],'01 TO 15')\n",
    "df_main['storey_range'] = df_main['storey_range'].replace(['01 TO 03'],'01 TO 15')\n",
    "df_main['storey_range'] = df_main['storey_range'].replace(['13 TO 15'],'01 TO 15')\n",
    "df_main['storey_range'] = df_main['storey_range'].replace(['19 TO 21'],'16 TO 30')\n",
    "df_main['storey_range'] = df_main['storey_range'].replace(['16 TO 18'],'16 TO 30')\n",
    "df_main['storey_range'] = df_main['storey_range'].replace(['25 TO 27'],'16 TO 30')\n",
    "df_main['storey_range'] = df_main['storey_range'].replace(['22 TO 24'],'16 TO 30')\n",
    "df_main['storey_range'] = df_main['storey_range'].replace(['28 TO 30'],'16 TO 30')\n",
    "df_main['storey_range'] = df_main['storey_range'].replace(['31 TO 33'],'16 TO 30')\n",
    "df_main['storey_range'] = df_main['storey_range'].replace(['40 TO 42'],'31 TO 45')\n",
    "df_main['storey_range'] = df_main['storey_range'].replace(['37 TO 39'],'31 TO 45')\n",
    "df_main['storey_range'] = df_main['storey_range'].replace(['34 TO 36'],'31 TO 45')\n",
    "df_main['storey_range'] = df_main['storey_range'].replace(['06 TO 10'],'01 TO 15')\n",
    "df_main['storey_range'] = df_main['storey_range'].replace(['01 TO 05'],'01 TO 15')\n",
    "df_main['storey_range'] = df_main['storey_range'].replace(['11 TO 15'],'01 TO 15')\n",
    "df_main['storey_range'] = df_main['storey_range'].replace(['16 TO 20'],'16 TO 30')\n",
    "df_main['storey_range'] = df_main['storey_range'].replace(['21 TO 25'],'16 TO 30')\n",
    "df_main['storey_range'] = df_main['storey_range'].replace(['26 TO 30'],'16 TO 30')\n",
    "df_main['storey_range'] = df_main['storey_range'].replace(['36 TO 40'],'31 TO 45')\n",
    "df_main['storey_range'] = df_main['storey_range'].replace(['31 TO 35'],'31 TO 45')\n",
    "df_main['storey_range'] = df_main['storey_range'].replace(['46 TO 48'],'31 TO 45')\n",
    "df_main['storey_range'] = df_main['storey_range'].replace(['43 TO 45'],'31 TO 45')\n",
    "df_main['storey_range'] = df_main['storey_range'].replace(['49 TO 51'],'31 TO 45')"
   ]
  },
  {
   "cell_type": "code",
   "execution_count": null,
   "metadata": {},
   "outputs": [],
   "source": [
    "# Splitting month into Month and Year\n",
    "\n",
    "df_main[['Year', 'Month']] = df_main['month'].str.split('-', expand=True) "
   ]
  },
  {
   "cell_type": "code",
   "execution_count": null,
   "metadata": {},
   "outputs": [],
   "source": [
    "# Lease Commence Date\n",
    "\n",
    "df_main['Year'] = df_main['Year'].astype(str).astype(int) \n",
    "\n",
    "df_main['lease_left']=(99 - (df_main['Year'] - df_main['lease_commence_date'])) "
   ]
  },
  {
   "cell_type": "markdown",
   "metadata": {},
   "source": [
    "Flat differences\n",
    "\n",
    "Multi generation flat:\n",
    "- Current - 3 rooms (2 master room, 1 normal room) [excluding living room]\n",
    "- Previous (1980s) - 4-room or 5-room flat with an adjoining studio apartment that had a separate entrance"
   ]
  },
  {
   "cell_type": "code",
   "execution_count": null,
   "metadata": {},
   "outputs": [],
   "source": [
    "# Replacing MULTI-GENERATION TO MULTI GENERATION\n",
    "\n",
    "df_main['flat_type'] = df_main['flat_type'].replace(['MULTI-GENERATION'],'MULTI GENERATION')"
   ]
  },
  {
   "cell_type": "markdown",
   "metadata": {},
   "source": [
    "Type S1 and S2: (i.e. The Pinnacle@Duxton)\n",
    "- Special types, different unit variations – with dissimilar combinations of features such as extended bays, balconies, bay windows and planter areas.\n",
    "\n",
    "All the different models (Improved, Simplified etc):\n",
    "- Refers to the different model of each flat types, normally means floor plan is different, but all means the same type.\n",
    "\n",
    "Adjoined flat are 2 individual flats purchased side by side, and the owners link both units together.\n",
    "\n",
    "Loft apartment is flats with high ceiling, 1 staircase and 1 room on the top, normally located at the top of the building (something like penthouse but HDB version)\n",
    "\n",
    "Comparison between following models:\n",
    "- Apartment (1-level)\n",
    "- Maisonette (2-level, normally multiple units in 1 HDB building)\n",
    "- Terrace (2-levels, but a stand-alone building)"
   ]
  },
  {
   "cell_type": "code",
   "execution_count": null,
   "metadata": {},
   "outputs": [],
   "source": [
    "# Flat Model\n",
    "\n",
    "df_main['flat_model'] = df_main['flat_model'].replace(['MODEL A-MAISONETTE','IMPROVED-MAISONETTE',\n",
    "                                                       'Model A-Maisonette','Improved-Maisonette', \n",
    "                                                       'Premium Maisonette', 'Maisonette'],\n",
    "                                                       'MAISONETTE')\n",
    "df_main['flat_model'] = df_main['flat_model'].replace(['PREMIUM APARTMENT','Apartment','Premium Apartment'],\n",
    "                                                       'APARTMENT')\n",
    "df_main['flat_model'] = df_main['flat_model'].replace(['Improved'],'IMPROVED')\n",
    "df_main['flat_model'] = df_main['flat_model'].replace(['New Generation'],'NEW GENERATION')\n",
    "df_main['flat_model'] = df_main['flat_model'].replace(['Model A'],'MODEL A')\n",
    "df_main['flat_model'] = df_main['flat_model'].replace(['Standard'],'STANDARD')\n",
    "df_main['flat_model'] = df_main['flat_model'].replace(['Simplified'],'SIMPLIFIED')\n",
    "df_main['flat_model'] = df_main['flat_model'].replace(['2-room','Model A2'],'2-ROOM')\n",
    "df_main['flat_model'] = df_main['flat_model'].replace(['Terrace'],'TERRACE')\n",
    "df_main['flat_model'] = df_main['flat_model'].replace(['Multi Generation'],'MULTI GENERATION')\n",
    "df_main['flat_model'] = df_main['flat_model'].replace(['Adjoined flat'],'ADJOINED FLAT')\n",
    "df_main['flat_model'] = df_main['flat_model'].replace(['Type S1', 'Type S2'],'TYPE S')\n",
    "df_main['flat_model'] = df_main['flat_model'].replace(['Premium Apartment Loft'],'LOFT APARTMENT')"
   ]
  },
  {
   "cell_type": "code",
   "execution_count": null,
   "metadata": {},
   "outputs": [],
   "source": [
    "df_main"
   ]
  },
  {
   "cell_type": "code",
   "execution_count": null,
   "metadata": {},
   "outputs": [],
   "source": [
    "df_cleaned = df_main[['flat_type','block','street_name','storey_range','floor_area_sqm','flat_model',\n",
    "                      'resale_price','Year','lease_left','town']]\n",
    "df_cleaned = df_cleaned.rename(columns={\"Year\": \"year\", 'town' : 'region'})\n",
    "df_cleaned.head()"
   ]
  },
  {
   "cell_type": "markdown",
   "metadata": {},
   "source": [
    "Separating the data into decades.\n",
    "- 1990 to 1999\n",
    "- 2000 to 2009\n",
    "- 2010 to 2019\n",
    "- 2020 onwards"
   ]
  },
  {
   "cell_type": "code",
   "execution_count": null,
   "metadata": {},
   "outputs": [],
   "source": [
    "df_90 = df_cleaned[df_cleaned['year'] < 2000]\n",
    "df_90"
   ]
  },
  {
   "cell_type": "code",
   "execution_count": null,
   "metadata": {},
   "outputs": [],
   "source": [
    "df_00 = df_cleaned[(df_cleaned['year'] >= 2000) & (df_cleaned['year'] < 2010)]\n",
    "df_00"
   ]
  },
  {
   "cell_type": "code",
   "execution_count": null,
   "metadata": {},
   "outputs": [],
   "source": [
    "df_10 = df_cleaned[(df_cleaned['year'] >= 2010) & (df_cleaned['year'] < 2020)]\n",
    "df_10"
   ]
  },
  {
   "cell_type": "code",
   "execution_count": null,
   "metadata": {},
   "outputs": [],
   "source": [
    "df_20 = df_cleaned[df_cleaned['year'] >= 2020]\n",
    "df_20"
   ]
  },
  {
   "cell_type": "markdown",
   "metadata": {},
   "source": [
    "## Map Visualisation"
   ]
  },
  {
   "cell_type": "code",
   "execution_count": null,
   "metadata": {},
   "outputs": [],
   "source": [
    "f = open('Geojson/master-plan-2019-region-boundary-no-sea-geojson.geojson')\n",
    " \n",
    "data = json.load(f)"
   ]
  },
  {
   "cell_type": "code",
   "execution_count": null,
   "metadata": {},
   "outputs": [],
   "source": [
    "data"
   ]
  },
  {
   "cell_type": "code",
   "execution_count": null,
   "metadata": {},
   "outputs": [],
   "source": [
    "data['features'][0]['properties']['region'] = 'WEST REGION'\n",
    "data['features'][1]['properties']['region'] = 'NORTH REGION'\n",
    "data['features'][2]['properties']['region'] = 'NORTH-EAST REGION'\n",
    "data['features'][3]['properties']['region'] = 'EAST REGION'\n",
    "data['features'][4]['properties']['region'] = 'CENTRAL REGION'"
   ]
  },
  {
   "cell_type": "code",
   "execution_count": null,
   "metadata": {},
   "outputs": [],
   "source": [
    "print(df_cleaned[\"region\"][0])\n",
    "print(data['features'][0]['properties'])"
   ]
  },
  {
   "cell_type": "markdown",
   "metadata": {},
   "source": [
    "# Exploratory Data Analysis (EDA)"
   ]
  },
  {
   "cell_type": "markdown",
   "metadata": {},
   "source": [
    "## Overall across the years from 1990 to 2022"
   ]
  },
  {
   "cell_type": "code",
   "execution_count": null,
   "metadata": {},
   "outputs": [],
   "source": [
    "numeric_main = pd.DataFrame(df_cleaned[[\"floor_area_sqm\",\"resale_price\",\"lease_left\"]])\n",
    "numeric_main"
   ]
  },
  {
   "cell_type": "code",
   "execution_count": null,
   "metadata": {},
   "outputs": [],
   "source": [
    "# Draw the distributions of all variables\n",
    "f, axes = plt.subplots(3, 3, figsize=(18, 18))\n",
    "\n",
    "count = 0\n",
    "for var in numeric_main:\n",
    "    sns.boxplot(data = numeric_main[var], orient = \"h\", ax = axes[count,0])\n",
    "    sns.histplot(data = numeric_main[var], ax = axes[count,1])\n",
    "    sns.violinplot(data = numeric_main[var], orient = \"h\", ax = axes[count,2])\n",
    "    count += 1"
   ]
  },
  {
   "cell_type": "code",
   "execution_count": null,
   "metadata": {
    "scrolled": false
   },
   "outputs": [],
   "source": [
    "print(numeric_main.corr())\n",
    "\n",
    "# Heatmap of the Correlation Matrix\n",
    "f = plt.figure(figsize=(8, 8))\n",
    "sns.heatmap(numeric_main.corr(), vmin = -1, vmax = 1, linewidths = 1,\n",
    "           annot = True, fmt = \".2f\", annot_kws = {\"size\": 18}, cmap = \"RdBu\")"
   ]
  },
  {
   "cell_type": "code",
   "execution_count": null,
   "metadata": {
    "scrolled": false
   },
   "outputs": [],
   "source": [
    "sns.pairplot(data = numeric_main)"
   ]
  },
  {
   "cell_type": "code",
   "execution_count": null,
   "metadata": {},
   "outputs": [],
   "source": [
    "df_overall = df_cleaned.groupby(['region']).mean().reset_index()"
   ]
  },
  {
   "cell_type": "code",
   "execution_count": null,
   "metadata": {
    "scrolled": false
   },
   "outputs": [],
   "source": [
    "fig = px.choropleth_mapbox(df_overall, geojson=data, color=\"resale_price\",\n",
    "                           locations=\"region\", featureidkey=\"properties.region\",\n",
    "                           center={\"lat\": 1.3302, \"lon\": 103.8519},\n",
    "                           color_continuous_scale = 'blues',\n",
    "                           mapbox_style=\"carto-positron\", zoom=10)\n",
    "fig.update_layout(margin={\"r\":0,\"t\":0,\"l\":0,\"b\":0})\n",
    "fig.show()"
   ]
  },
  {
   "cell_type": "markdown",
   "metadata": {},
   "source": [
    "## 1990 to 1999"
   ]
  },
  {
   "cell_type": "code",
   "execution_count": null,
   "metadata": {},
   "outputs": [],
   "source": [
    "numeric_90 = pd.DataFrame(df_90[[\"floor_area_sqm\",\"resale_price\",\"lease_left\"]])\n",
    "numeric_90"
   ]
  },
  {
   "cell_type": "code",
   "execution_count": null,
   "metadata": {},
   "outputs": [],
   "source": [
    "# Draw the distributions of all variables\n",
    "f, axes = plt.subplots(3, 3, figsize=(18, 18))\n",
    "\n",
    "count = 0\n",
    "for var in numeric_90:\n",
    "    sns.boxplot(data = numeric_90[var], orient = \"h\", ax = axes[count,0])\n",
    "    sns.histplot(data = numeric_90[var], ax = axes[count,1])\n",
    "    sns.violinplot(data = numeric_90[var], orient = \"h\", ax = axes[count,2])\n",
    "    count += 1"
   ]
  },
  {
   "cell_type": "code",
   "execution_count": null,
   "metadata": {},
   "outputs": [],
   "source": [
    "print(numeric_90.corr())\n",
    "\n",
    "# Heatmap of the Correlation Matrix\n",
    "f = plt.figure(figsize=(8, 8))\n",
    "sns.heatmap(numeric_90.corr(), vmin = -1, vmax = 1, linewidths = 1,\n",
    "           annot = True, fmt = \".2f\", annot_kws = {\"size\": 18}, cmap = \"RdBu\")"
   ]
  },
  {
   "cell_type": "code",
   "execution_count": null,
   "metadata": {},
   "outputs": [],
   "source": [
    "sns.pairplot(data = numeric_90)"
   ]
  },
  {
   "cell_type": "code",
   "execution_count": null,
   "metadata": {},
   "outputs": [],
   "source": [
    "df_90overall = df_90.groupby(['region']).mean().reset_index()"
   ]
  },
  {
   "cell_type": "code",
   "execution_count": null,
   "metadata": {},
   "outputs": [],
   "source": [
    "fig = px.choropleth_mapbox(df_90overall, geojson=data, color=\"resale_price\",\n",
    "                           locations=\"region\", featureidkey=\"properties.region\",\n",
    "                           center={\"lat\": 1.3302, \"lon\": 103.8519},\n",
    "                           color_continuous_scale = 'blues',\n",
    "                           mapbox_style=\"carto-positron\", zoom=10)\n",
    "fig.update_layout(margin={\"r\":0,\"t\":0,\"l\":0,\"b\":0})\n",
    "fig.show()"
   ]
  },
  {
   "cell_type": "markdown",
   "metadata": {},
   "source": [
    "## 2000 to 2009"
   ]
  },
  {
   "cell_type": "code",
   "execution_count": null,
   "metadata": {},
   "outputs": [],
   "source": [
    "numeric_00= pd.DataFrame(df_00[[\"floor_area_sqm\",\"resale_price\",\"lease_left\"]])\n",
    "numeric_00.reset_index(drop=True, inplace=True)\n",
    "numeric_00"
   ]
  },
  {
   "cell_type": "code",
   "execution_count": null,
   "metadata": {},
   "outputs": [],
   "source": [
    "# Draw the distributions of all variables\n",
    "f, axes = plt.subplots(3, 3, figsize=(18, 18))\n",
    "\n",
    "count = 0\n",
    "for var in numeric_00:\n",
    "    sns.boxplot(data = numeric_00[var], orient = \"h\", ax = axes[count,0])\n",
    "    sns.histplot(data = numeric_00[var], ax = axes[count,1])\n",
    "    sns.violinplot(data = numeric_00[var], orient = \"h\", ax = axes[count,2])\n",
    "    count += 1"
   ]
  },
  {
   "cell_type": "code",
   "execution_count": null,
   "metadata": {},
   "outputs": [],
   "source": [
    "print(numeric_00.corr())\n",
    "\n",
    "# Heatmap of the Correlation Matrix\n",
    "f = plt.figure(figsize=(8, 8))\n",
    "sns.heatmap(numeric_00.corr(), vmin = -1, vmax = 1, linewidths = 1,\n",
    "           annot = True, fmt = \".2f\", annot_kws = {\"size\": 18}, cmap = \"RdBu\")"
   ]
  },
  {
   "cell_type": "code",
   "execution_count": null,
   "metadata": {},
   "outputs": [],
   "source": [
    "sns.pairplot(data = numeric_00)"
   ]
  },
  {
   "cell_type": "code",
   "execution_count": null,
   "metadata": {},
   "outputs": [],
   "source": [
    "df_00overall = df_00.groupby(['region']).mean().reset_index()"
   ]
  },
  {
   "cell_type": "code",
   "execution_count": null,
   "metadata": {},
   "outputs": [],
   "source": [
    "fig = px.choropleth_mapbox(df_00overall, geojson=data, color=\"resale_price\",\n",
    "                           locations=\"region\", featureidkey=\"properties.region\",\n",
    "                           center={\"lat\": 1.3302, \"lon\": 103.8519},\n",
    "                           color_continuous_scale = 'blues',\n",
    "                           mapbox_style=\"carto-positron\", zoom=10)\n",
    "fig.update_layout(margin={\"r\":0,\"t\":0,\"l\":0,\"b\":0})\n",
    "fig.show()"
   ]
  },
  {
   "cell_type": "markdown",
   "metadata": {},
   "source": [
    "## 2010 to 2019"
   ]
  },
  {
   "cell_type": "code",
   "execution_count": null,
   "metadata": {},
   "outputs": [],
   "source": [
    "numeric_10= pd.DataFrame(df_10[[\"floor_area_sqm\",\"resale_price\",\"lease_left\"]])\n",
    "numeric_10.reset_index(drop=True, inplace=True)\n",
    "numeric_10"
   ]
  },
  {
   "cell_type": "code",
   "execution_count": null,
   "metadata": {},
   "outputs": [],
   "source": [
    "# Draw the distributions of all variables\n",
    "f, axes = plt.subplots(3, 3, figsize=(18, 18))\n",
    "\n",
    "count = 0\n",
    "for var in numeric_10:\n",
    "    sns.boxplot(data = numeric_10[var], orient = \"h\", ax = axes[count,0])\n",
    "    sns.histplot(data = numeric_10[var], ax = axes[count,1])\n",
    "    sns.violinplot(data = numeric_10[var], orient = \"h\", ax = axes[count,2])\n",
    "    count += 1"
   ]
  },
  {
   "cell_type": "code",
   "execution_count": null,
   "metadata": {},
   "outputs": [],
   "source": [
    "print(numeric_10.corr())\n",
    "\n",
    "# Heatmap of the Correlation Matrix\n",
    "f = plt.figure(figsize=(8, 8))\n",
    "sns.heatmap(numeric_10.corr(), vmin = -1, vmax = 1, linewidths = 1,\n",
    "           annot = True, fmt = \".2f\", annot_kws = {\"size\": 18}, cmap = \"RdBu\")"
   ]
  },
  {
   "cell_type": "code",
   "execution_count": null,
   "metadata": {},
   "outputs": [],
   "source": [
    "sns.pairplot(data = numeric_10)"
   ]
  },
  {
   "cell_type": "code",
   "execution_count": null,
   "metadata": {},
   "outputs": [],
   "source": [
    "df_10overall = df_10.groupby(['region']).mean().reset_index()\n"
   ]
  },
  {
   "cell_type": "code",
   "execution_count": null,
   "metadata": {},
   "outputs": [],
   "source": [
    "fig = px.choropleth_mapbox(df_10overall, geojson=data, color=\"resale_price\",\n",
    "                           locations=\"region\", featureidkey=\"properties.region\",\n",
    "                           center={\"lat\": 1.3302, \"lon\": 103.8519},\n",
    "                           color_continuous_scale = 'blues',\n",
    "                           mapbox_style=\"carto-positron\", zoom=10)\n",
    "fig.update_layout(margin={\"r\":0,\"t\":0,\"l\":0,\"b\":0})\n",
    "fig.show()"
   ]
  },
  {
   "cell_type": "markdown",
   "metadata": {},
   "source": [
    "## 2020 onwards"
   ]
  },
  {
   "cell_type": "code",
   "execution_count": null,
   "metadata": {},
   "outputs": [],
   "source": [
    "numeric_20= pd.DataFrame(df_20[[\"floor_area_sqm\",\"resale_price\",\"lease_left\"]])\n",
    "numeric_20.reset_index(drop=True, inplace=True)\n",
    "numeric_20"
   ]
  },
  {
   "cell_type": "code",
   "execution_count": null,
   "metadata": {},
   "outputs": [],
   "source": [
    "# Draw the distributions of all variables\n",
    "f, axes = plt.subplots(3, 3, figsize=(18, 18))\n",
    "\n",
    "count = 0\n",
    "for var in numeric_20:\n",
    "    sns.boxplot(data = numeric_20[var], orient = \"h\", ax = axes[count,0])\n",
    "    sns.histplot(data = numeric_20[var], ax = axes[count,1])\n",
    "    sns.violinplot(data = numeric_20[var], orient = \"h\", ax = axes[count,2])\n",
    "    count += 1"
   ]
  },
  {
   "cell_type": "code",
   "execution_count": null,
   "metadata": {},
   "outputs": [],
   "source": [
    "print(numeric_20.corr())\n",
    "\n",
    "# Heatmap of the Correlation Matrix\n",
    "f = plt.figure(figsize=(8, 8))\n",
    "sns.heatmap(numeric_20.corr(), vmin = -1, vmax = 1, linewidths = 1,\n",
    "           annot = True, fmt = \".2f\", annot_kws = {\"size\": 18}, cmap = \"RdBu\")"
   ]
  },
  {
   "cell_type": "code",
   "execution_count": null,
   "metadata": {},
   "outputs": [],
   "source": [
    "sns.pairplot(data = numeric_20)"
   ]
  },
  {
   "cell_type": "code",
   "execution_count": null,
   "metadata": {},
   "outputs": [],
   "source": [
    "df_20overall = df_20.groupby(['region']).mean().reset_index()"
   ]
  },
  {
   "cell_type": "code",
   "execution_count": null,
   "metadata": {},
   "outputs": [],
   "source": [
    "fig = px.choropleth_mapbox(df_20overall, geojson=data, color=\"resale_price\",\n",
    "                           locations=\"region\", featureidkey=\"properties.region\",\n",
    "                           center={\"lat\": 1.3302, \"lon\": 103.8519},\n",
    "                           color_continuous_scale = 'blues',\n",
    "                           mapbox_style=\"carto-positron\", zoom=10)\n",
    "fig.update_layout(margin={\"r\":0,\"t\":0,\"l\":0,\"b\":0})\n",
    "fig.show()"
   ]
  },
  {
   "cell_type": "code",
   "execution_count": null,
   "metadata": {},
   "outputs": [],
   "source": []
  }
 ],
 "metadata": {
  "kernelspec": {
   "display_name": "Python 3",
   "language": "python",
   "name": "python3"
  },
  "language_info": {
   "codemirror_mode": {
    "name": "ipython",
    "version": 3
   },
   "file_extension": ".py",
   "mimetype": "text/x-python",
   "name": "python",
   "nbconvert_exporter": "python",
   "pygments_lexer": "ipython3",
   "version": "3.7.6"
  }
 },
 "nbformat": 4,
 "nbformat_minor": 5
}
